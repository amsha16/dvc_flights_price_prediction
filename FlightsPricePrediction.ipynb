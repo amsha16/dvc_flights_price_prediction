{
 "cells": [
  {
   "cell_type": "code",
   "execution_count": 1,
   "id": "48f9ba96-d4b9-49f6-927c-ab69152e24ae",
   "metadata": {},
   "outputs": [
    {
     "name": "stdout",
     "output_type": "stream",
     "text": [
      "Requirement already satisfied: seaborn in c:\\users\\achla\\downloads\\ml\\dvc\\dvc_venv\\lib\\site-packages (0.13.2)\n",
      "Requirement already satisfied: numpy!=1.24.0,>=1.20 in c:\\users\\achla\\downloads\\ml\\dvc\\dvc_venv\\lib\\site-packages (from seaborn) (2.3.3)\n",
      "Requirement already satisfied: pandas>=1.2 in c:\\users\\achla\\downloads\\ml\\dvc\\dvc_venv\\lib\\site-packages (from seaborn) (2.3.2)\n",
      "Requirement already satisfied: matplotlib!=3.6.1,>=3.4 in c:\\users\\achla\\downloads\\ml\\dvc\\dvc_venv\\lib\\site-packages (from seaborn) (3.10.6)\n",
      "Requirement already satisfied: contourpy>=1.0.1 in c:\\users\\achla\\downloads\\ml\\dvc\\dvc_venv\\lib\\site-packages (from matplotlib!=3.6.1,>=3.4->seaborn) (1.3.3)\n",
      "Requirement already satisfied: cycler>=0.10 in c:\\users\\achla\\downloads\\ml\\dvc\\dvc_venv\\lib\\site-packages (from matplotlib!=3.6.1,>=3.4->seaborn) (0.12.1)\n",
      "Requirement already satisfied: fonttools>=4.22.0 in c:\\users\\achla\\downloads\\ml\\dvc\\dvc_venv\\lib\\site-packages (from matplotlib!=3.6.1,>=3.4->seaborn) (4.59.2)\n",
      "Requirement already satisfied: kiwisolver>=1.3.1 in c:\\users\\achla\\downloads\\ml\\dvc\\dvc_venv\\lib\\site-packages (from matplotlib!=3.6.1,>=3.4->seaborn) (1.4.9)\n",
      "Requirement already satisfied: packaging>=20.0 in c:\\users\\achla\\downloads\\ml\\dvc\\dvc_venv\\lib\\site-packages (from matplotlib!=3.6.1,>=3.4->seaborn) (25.0)\n",
      "Requirement already satisfied: pillow>=8 in c:\\users\\achla\\downloads\\ml\\dvc\\dvc_venv\\lib\\site-packages (from matplotlib!=3.6.1,>=3.4->seaborn) (11.3.0)\n",
      "Requirement already satisfied: pyparsing>=2.3.1 in c:\\users\\achla\\downloads\\ml\\dvc\\dvc_venv\\lib\\site-packages (from matplotlib!=3.6.1,>=3.4->seaborn) (3.2.4)\n",
      "Requirement already satisfied: python-dateutil>=2.7 in c:\\users\\achla\\downloads\\ml\\dvc\\dvc_venv\\lib\\site-packages (from matplotlib!=3.6.1,>=3.4->seaborn) (2.9.0.post0)\n",
      "Requirement already satisfied: pytz>=2020.1 in c:\\users\\achla\\downloads\\ml\\dvc\\dvc_venv\\lib\\site-packages (from pandas>=1.2->seaborn) (2025.2)\n",
      "Requirement already satisfied: tzdata>=2022.7 in c:\\users\\achla\\downloads\\ml\\dvc\\dvc_venv\\lib\\site-packages (from pandas>=1.2->seaborn) (2025.2)\n",
      "Requirement already satisfied: six>=1.5 in c:\\users\\achla\\downloads\\ml\\dvc\\dvc_venv\\lib\\site-packages (from python-dateutil>=2.7->matplotlib!=3.6.1,>=3.4->seaborn) (1.17.0)\n"
     ]
    }
   ],
   "source": [
    "!pip install seaborn"
   ]
  },
  {
   "cell_type": "code",
   "execution_count": 2,
   "id": "ffdb09cb-1c45-4c08-99c0-723f8e6dbfc2",
   "metadata": {},
   "outputs": [
    {
     "name": "stdout",
     "output_type": "stream",
     "text": [
      "Requirement already satisfied: dvclive in c:\\users\\achla\\downloads\\ml\\dvc\\dvc_venv\\lib\\site-packages (3.48.5)\n",
      "Requirement already satisfied: dvc>=3.48.4 in c:\\users\\achla\\downloads\\ml\\dvc\\dvc_venv\\lib\\site-packages (from dvclive) (3.63.0)\n",
      "Requirement already satisfied: dvc-render<2,>=1.0.0 in c:\\users\\achla\\downloads\\ml\\dvc\\dvc_venv\\lib\\site-packages (from dvclive) (1.0.2)\n",
      "Requirement already satisfied: dvc-studio-client<1,>=0.20 in c:\\users\\achla\\downloads\\ml\\dvc\\dvc_venv\\lib\\site-packages (from dvclive) (0.22.0)\n",
      "Requirement already satisfied: funcy in c:\\users\\achla\\downloads\\ml\\dvc\\dvc_venv\\lib\\site-packages (from dvclive) (2.0)\n",
      "Requirement already satisfied: gto in c:\\users\\achla\\downloads\\ml\\dvc\\dvc_venv\\lib\\site-packages (from dvclive) (1.8.0)\n",
      "Requirement already satisfied: ruamel.yaml in c:\\users\\achla\\downloads\\ml\\dvc\\dvc_venv\\lib\\site-packages (from dvclive) (0.18.15)\n",
      "Requirement already satisfied: scmrepo<4,>=3 in c:\\users\\achla\\downloads\\ml\\dvc\\dvc_venv\\lib\\site-packages (from dvclive) (3.5.2)\n",
      "Requirement already satisfied: psutil in c:\\users\\achla\\downloads\\ml\\dvc\\dvc_venv\\lib\\site-packages (from dvclive) (7.0.0)\n",
      "Requirement already satisfied: pynvml in c:\\users\\achla\\downloads\\ml\\dvc\\dvc_venv\\lib\\site-packages (from dvclive) (13.0.1)\n",
      "Requirement already satisfied: dulwich in c:\\users\\achla\\downloads\\ml\\dvc\\dvc_venv\\lib\\site-packages (from dvc-studio-client<1,>=0.20->dvclive) (0.24.1)\n",
      "Requirement already satisfied: requests in c:\\users\\achla\\downloads\\ml\\dvc\\dvc_venv\\lib\\site-packages (from dvc-studio-client<1,>=0.20->dvclive) (2.32.5)\n",
      "Requirement already satisfied: voluptuous in c:\\users\\achla\\downloads\\ml\\dvc\\dvc_venv\\lib\\site-packages (from dvc-studio-client<1,>=0.20->dvclive) (0.15.2)\n",
      "Requirement already satisfied: gitpython>3 in c:\\users\\achla\\downloads\\ml\\dvc\\dvc_venv\\lib\\site-packages (from scmrepo<4,>=3->dvclive) (3.1.45)\n",
      "Requirement already satisfied: pygit2>=1.14.0 in c:\\users\\achla\\downloads\\ml\\dvc\\dvc_venv\\lib\\site-packages (from scmrepo<4,>=3->dvclive) (1.18.2)\n",
      "Requirement already satisfied: pygtrie>=2.3.2 in c:\\users\\achla\\downloads\\ml\\dvc\\dvc_venv\\lib\\site-packages (from scmrepo<4,>=3->dvclive) (2.5.0)\n",
      "Requirement already satisfied: fsspec>=2024.2.0 in c:\\users\\achla\\downloads\\ml\\dvc\\dvc_venv\\lib\\site-packages (from fsspec[tqdm]>=2024.2.0->scmrepo<4,>=3->dvclive) (2025.9.0)\n",
      "Requirement already satisfied: pathspec>=0.9.0 in c:\\users\\achla\\downloads\\ml\\dvc\\dvc_venv\\lib\\site-packages (from scmrepo<4,>=3->dvclive) (0.12.1)\n",
      "Requirement already satisfied: asyncssh<3,>=2.13.1 in c:\\users\\achla\\downloads\\ml\\dvc\\dvc_venv\\lib\\site-packages (from scmrepo<4,>=3->dvclive) (2.21.0)\n",
      "Requirement already satisfied: aiohttp-retry>=2.5.0 in c:\\users\\achla\\downloads\\ml\\dvc\\dvc_venv\\lib\\site-packages (from scmrepo<4,>=3->dvclive) (2.9.1)\n",
      "Requirement already satisfied: tqdm in c:\\users\\achla\\downloads\\ml\\dvc\\dvc_venv\\lib\\site-packages (from scmrepo<4,>=3->dvclive) (4.67.1)\n",
      "Requirement already satisfied: cryptography>=39.0 in c:\\users\\achla\\downloads\\ml\\dvc\\dvc_venv\\lib\\site-packages (from asyncssh<3,>=2.13.1->scmrepo<4,>=3->dvclive) (43.0.3)\n",
      "Requirement already satisfied: typing_extensions>=4.0.0 in c:\\users\\achla\\downloads\\ml\\dvc\\dvc_venv\\lib\\site-packages (from asyncssh<3,>=2.13.1->scmrepo<4,>=3->dvclive) (4.15.0)\n",
      "Requirement already satisfied: aiohttp in c:\\users\\achla\\downloads\\ml\\dvc\\dvc_venv\\lib\\site-packages (from aiohttp-retry>=2.5.0->scmrepo<4,>=3->dvclive) (3.12.15)\n",
      "Requirement already satisfied: cffi>=1.12 in c:\\users\\achla\\downloads\\ml\\dvc\\dvc_venv\\lib\\site-packages (from cryptography>=39.0->asyncssh<3,>=2.13.1->scmrepo<4,>=3->dvclive) (2.0.0)\n",
      "Requirement already satisfied: pycparser in c:\\users\\achla\\downloads\\ml\\dvc\\dvc_venv\\lib\\site-packages (from cffi>=1.12->cryptography>=39.0->asyncssh<3,>=2.13.1->scmrepo<4,>=3->dvclive) (2.23)\n",
      "Requirement already satisfied: urllib3>=1.25 in c:\\users\\achla\\downloads\\ml\\dvc\\dvc_venv\\lib\\site-packages (from dulwich->dvc-studio-client<1,>=0.20->dvclive) (2.5.0)\n",
      "Requirement already satisfied: attrs>=22.2.0 in c:\\users\\achla\\downloads\\ml\\dvc\\dvc_venv\\lib\\site-packages (from dvc>=3.48.4->dvclive) (25.3.0)\n",
      "Requirement already satisfied: celery in c:\\users\\achla\\downloads\\ml\\dvc\\dvc_venv\\lib\\site-packages (from dvc>=3.48.4->dvclive) (5.5.3)\n",
      "Requirement already satisfied: colorama>=0.3.9 in c:\\users\\achla\\downloads\\ml\\dvc\\dvc_venv\\lib\\site-packages (from dvc>=3.48.4->dvclive) (0.4.6)\n",
      "Requirement already satisfied: configobj>=5.0.9 in c:\\users\\achla\\downloads\\ml\\dvc\\dvc_venv\\lib\\site-packages (from dvc>=3.48.4->dvclive) (5.0.9)\n",
      "Requirement already satisfied: distro>=1.3 in c:\\users\\achla\\downloads\\ml\\dvc\\dvc_venv\\lib\\site-packages (from dvc>=3.48.4->dvclive) (1.9.0)\n",
      "Requirement already satisfied: dpath<3,>=2.1.0 in c:\\users\\achla\\downloads\\ml\\dvc\\dvc_venv\\lib\\site-packages (from dvc>=3.48.4->dvclive) (2.2.0)\n",
      "Requirement already satisfied: dvc-data<3.17,>=3.16.2 in c:\\users\\achla\\downloads\\ml\\dvc\\dvc_venv\\lib\\site-packages (from dvc>=3.48.4->dvclive) (3.16.12)\n",
      "Requirement already satisfied: dvc-http>=2.29.0 in c:\\users\\achla\\downloads\\ml\\dvc\\dvc_venv\\lib\\site-packages (from dvc>=3.48.4->dvclive) (2.32.0)\n",
      "Requirement already satisfied: dvc-objects in c:\\users\\achla\\downloads\\ml\\dvc\\dvc_venv\\lib\\site-packages (from dvc>=3.48.4->dvclive) (5.1.1)\n",
      "Requirement already satisfied: dvc-task<1,>=0.3.0 in c:\\users\\achla\\downloads\\ml\\dvc\\dvc_venv\\lib\\site-packages (from dvc>=3.48.4->dvclive) (0.40.2)\n",
      "Requirement already satisfied: flatten_dict<1,>=0.4.1 in c:\\users\\achla\\downloads\\ml\\dvc\\dvc_venv\\lib\\site-packages (from dvc>=3.48.4->dvclive) (0.4.2)\n",
      "Requirement already satisfied: flufl.lock<9,>=8.1.0 in c:\\users\\achla\\downloads\\ml\\dvc\\dvc_venv\\lib\\site-packages (from dvc>=3.48.4->dvclive) (8.2.0)\n",
      "Requirement already satisfied: grandalf<1,>=0.7 in c:\\users\\achla\\downloads\\ml\\dvc\\dvc_venv\\lib\\site-packages (from dvc>=3.48.4->dvclive) (0.8)\n",
      "Requirement already satisfied: hydra-core>=1.1 in c:\\users\\achla\\downloads\\ml\\dvc\\dvc_venv\\lib\\site-packages (from dvc>=3.48.4->dvclive) (1.3.2)\n",
      "Requirement already satisfied: iterative-telemetry>=0.0.7 in c:\\users\\achla\\downloads\\ml\\dvc\\dvc_venv\\lib\\site-packages (from dvc>=3.48.4->dvclive) (0.0.10)\n",
      "Requirement already satisfied: kombu in c:\\users\\achla\\downloads\\ml\\dvc\\dvc_venv\\lib\\site-packages (from dvc>=3.48.4->dvclive) (5.5.4)\n",
      "Requirement already satisfied: networkx>=2.5 in c:\\users\\achla\\downloads\\ml\\dvc\\dvc_venv\\lib\\site-packages (from dvc>=3.48.4->dvclive) (3.5)\n",
      "Requirement already satisfied: omegaconf in c:\\users\\achla\\downloads\\ml\\dvc\\dvc_venv\\lib\\site-packages (from dvc>=3.48.4->dvclive) (2.3.0)\n",
      "Requirement already satisfied: packaging>=19 in c:\\users\\achla\\downloads\\ml\\dvc\\dvc_venv\\lib\\site-packages (from dvc>=3.48.4->dvclive) (25.0)\n",
      "Requirement already satisfied: platformdirs<5,>=3.1.1 in c:\\users\\achla\\downloads\\ml\\dvc\\dvc_venv\\lib\\site-packages (from dvc>=3.48.4->dvclive) (4.4.0)\n",
      "Requirement already satisfied: pydot>=1.2.4 in c:\\users\\achla\\downloads\\ml\\dvc\\dvc_venv\\lib\\site-packages (from dvc>=3.48.4->dvclive) (4.0.1)\n",
      "Requirement already satisfied: pyparsing>=2.4.7 in c:\\users\\achla\\downloads\\ml\\dvc\\dvc_venv\\lib\\site-packages (from dvc>=3.48.4->dvclive) (3.2.4)\n",
      "Requirement already satisfied: rich>=12 in c:\\users\\achla\\downloads\\ml\\dvc\\dvc_venv\\lib\\site-packages (from dvc>=3.48.4->dvclive) (14.1.0)\n",
      "Requirement already satisfied: shortuuid>=0.5 in c:\\users\\achla\\downloads\\ml\\dvc\\dvc_venv\\lib\\site-packages (from dvc>=3.48.4->dvclive) (1.0.13)\n",
      "Requirement already satisfied: shtab<2,>=1.3.4 in c:\\users\\achla\\downloads\\ml\\dvc\\dvc_venv\\lib\\site-packages (from dvc>=3.48.4->dvclive) (1.7.2)\n",
      "Requirement already satisfied: tabulate>=0.8.7 in c:\\users\\achla\\downloads\\ml\\dvc\\dvc_venv\\lib\\site-packages (from dvc>=3.48.4->dvclive) (0.9.0)\n",
      "Requirement already satisfied: tomlkit>=0.11.1 in c:\\users\\achla\\downloads\\ml\\dvc\\dvc_venv\\lib\\site-packages (from dvc>=3.48.4->dvclive) (0.13.3)\n",
      "Requirement already satisfied: zc.lockfile>=1.2.1 in c:\\users\\achla\\downloads\\ml\\dvc\\dvc_venv\\lib\\site-packages (from dvc>=3.48.4->dvclive) (3.0.post1)\n",
      "Requirement already satisfied: dictdiffer>=0.8.1 in c:\\users\\achla\\downloads\\ml\\dvc\\dvc_venv\\lib\\site-packages (from dvc-data<3.17,>=3.16.2->dvc>=3.48.4->dvclive) (0.9.0)\n",
      "Requirement already satisfied: diskcache>=5.2.1 in c:\\users\\achla\\downloads\\ml\\dvc\\dvc_venv\\lib\\site-packages (from dvc-data<3.17,>=3.16.2->dvc>=3.48.4->dvclive) (5.6.3)\n",
      "Requirement already satisfied: sqltrie<1,>=0.11.0 in c:\\users\\achla\\downloads\\ml\\dvc\\dvc_venv\\lib\\site-packages (from dvc-data<3.17,>=3.16.2->dvc>=3.48.4->dvclive) (0.11.2)\n",
      "Requirement already satisfied: orjson<4,>=3 in c:\\users\\achla\\downloads\\ml\\dvc\\dvc_venv\\lib\\site-packages (from dvc-data<3.17,>=3.16.2->dvc>=3.48.4->dvclive) (3.11.3)\n",
      "Requirement already satisfied: pywin32>=225 in c:\\users\\achla\\downloads\\ml\\dvc\\dvc_venv\\lib\\site-packages (from dvc-task<1,>=0.3.0->dvc>=3.48.4->dvclive) (311)\n",
      "Requirement already satisfied: billiard<5.0,>=4.2.1 in c:\\users\\achla\\downloads\\ml\\dvc\\dvc_venv\\lib\\site-packages (from celery->dvc>=3.48.4->dvclive) (4.2.1)\n",
      "Requirement already satisfied: vine<6.0,>=5.1.0 in c:\\users\\achla\\downloads\\ml\\dvc\\dvc_venv\\lib\\site-packages (from celery->dvc>=3.48.4->dvclive) (5.1.0)\n",
      "Requirement already satisfied: click<9.0,>=8.1.2 in c:\\users\\achla\\downloads\\ml\\dvc\\dvc_venv\\lib\\site-packages (from celery->dvc>=3.48.4->dvclive) (8.2.1)\n",
      "Requirement already satisfied: click-didyoumean>=0.3.0 in c:\\users\\achla\\downloads\\ml\\dvc\\dvc_venv\\lib\\site-packages (from celery->dvc>=3.48.4->dvclive) (0.3.1)\n",
      "Requirement already satisfied: click-repl>=0.2.0 in c:\\users\\achla\\downloads\\ml\\dvc\\dvc_venv\\lib\\site-packages (from celery->dvc>=3.48.4->dvclive) (0.3.0)\n",
      "Requirement already satisfied: click-plugins>=1.1.1 in c:\\users\\achla\\downloads\\ml\\dvc\\dvc_venv\\lib\\site-packages (from celery->dvc>=3.48.4->dvclive) (1.1.1.2)\n",
      "Requirement already satisfied: python-dateutil>=2.8.2 in c:\\users\\achla\\downloads\\ml\\dvc\\dvc_venv\\lib\\site-packages (from celery->dvc>=3.48.4->dvclive) (2.9.0.post0)\n",
      "Requirement already satisfied: six<2.0,>=1.12 in c:\\users\\achla\\downloads\\ml\\dvc\\dvc_venv\\lib\\site-packages (from flatten_dict<1,>=0.4.1->dvc>=3.48.4->dvclive) (1.17.0)\n",
      "Requirement already satisfied: atpublic in c:\\users\\achla\\downloads\\ml\\dvc\\dvc_venv\\lib\\site-packages (from flufl.lock<9,>=8.1.0->dvc>=3.48.4->dvclive) (6.0.1)\n",
      "Requirement already satisfied: entrypoints in c:\\users\\achla\\downloads\\ml\\dvc\\dvc_venv\\lib\\site-packages (from gto->dvclive) (0.4)\n",
      "Requirement already satisfied: pydantic!=2.0.0,<3,>=1.9.0 in c:\\users\\achla\\downloads\\ml\\dvc\\dvc_venv\\lib\\site-packages (from gto->dvclive) (2.11.9)\n",
      "Requirement already satisfied: semver>=2.13.0 in c:\\users\\achla\\downloads\\ml\\dvc\\dvc_venv\\lib\\site-packages (from gto->dvclive) (3.0.4)\n",
      "Requirement already satisfied: typer>=0.4.1 in c:\\users\\achla\\downloads\\ml\\dvc\\dvc_venv\\lib\\site-packages (from gto->dvclive) (0.17.4)\n",
      "Requirement already satisfied: amqp<6.0.0,>=5.1.1 in c:\\users\\achla\\downloads\\ml\\dvc\\dvc_venv\\lib\\site-packages (from kombu->dvc>=3.48.4->dvclive) (5.3.1)\n",
      "Requirement already satisfied: tzdata>=2025.2 in c:\\users\\achla\\downloads\\ml\\dvc\\dvc_venv\\lib\\site-packages (from kombu->dvc>=3.48.4->dvclive) (2025.2)\n",
      "Requirement already satisfied: annotated-types>=0.6.0 in c:\\users\\achla\\downloads\\ml\\dvc\\dvc_venv\\lib\\site-packages (from pydantic!=2.0.0,<3,>=1.9.0->gto->dvclive) (0.7.0)\n",
      "Requirement already satisfied: pydantic-core==2.33.2 in c:\\users\\achla\\downloads\\ml\\dvc\\dvc_venv\\lib\\site-packages (from pydantic!=2.0.0,<3,>=1.9.0->gto->dvclive) (2.33.2)\n",
      "Requirement already satisfied: typing-inspection>=0.4.0 in c:\\users\\achla\\downloads\\ml\\dvc\\dvc_venv\\lib\\site-packages (from pydantic!=2.0.0,<3,>=1.9.0->gto->dvclive) (0.4.1)\n",
      "Requirement already satisfied: prompt-toolkit>=3.0.36 in c:\\users\\achla\\downloads\\ml\\dvc\\dvc_venv\\lib\\site-packages (from click-repl>=0.2.0->celery->dvc>=3.48.4->dvclive) (3.0.52)\n",
      "Requirement already satisfied: gitdb<5,>=4.0.1 in c:\\users\\achla\\downloads\\ml\\dvc\\dvc_venv\\lib\\site-packages (from gitpython>3->scmrepo<4,>=3->dvclive) (4.0.12)\n",
      "Requirement already satisfied: smmap<6,>=3.0.1 in c:\\users\\achla\\downloads\\ml\\dvc\\dvc_venv\\lib\\site-packages (from gitdb<5,>=4.0.1->gitpython>3->scmrepo<4,>=3->dvclive) (5.0.2)\n",
      "Requirement already satisfied: antlr4-python3-runtime==4.9.* in c:\\users\\achla\\downloads\\ml\\dvc\\dvc_venv\\lib\\site-packages (from hydra-core>=1.1->dvc>=3.48.4->dvclive) (4.9.3)\n",
      "Requirement already satisfied: PyYAML>=5.1.0 in c:\\users\\achla\\downloads\\ml\\dvc\\dvc_venv\\lib\\site-packages (from omegaconf->dvc>=3.48.4->dvclive) (6.0.2)\n",
      "Requirement already satisfied: appdirs in c:\\users\\achla\\downloads\\ml\\dvc\\dvc_venv\\lib\\site-packages (from iterative-telemetry>=0.0.7->dvc>=3.48.4->dvclive) (1.4.4)\n",
      "Requirement already satisfied: filelock in c:\\users\\achla\\downloads\\ml\\dvc\\dvc_venv\\lib\\site-packages (from iterative-telemetry>=0.0.7->dvc>=3.48.4->dvclive) (3.19.1)\n",
      "Requirement already satisfied: wcwidth in c:\\users\\achla\\downloads\\ml\\dvc\\dvc_venv\\lib\\site-packages (from prompt-toolkit>=3.0.36->click-repl>=0.2.0->celery->dvc>=3.48.4->dvclive) (0.2.13)\n",
      "Requirement already satisfied: charset_normalizer<4,>=2 in c:\\users\\achla\\downloads\\ml\\dvc\\dvc_venv\\lib\\site-packages (from requests->dvc-studio-client<1,>=0.20->dvclive) (3.4.3)\n",
      "Requirement already satisfied: idna<4,>=2.5 in c:\\users\\achla\\downloads\\ml\\dvc\\dvc_venv\\lib\\site-packages (from requests->dvc-studio-client<1,>=0.20->dvclive) (3.10)\n",
      "Requirement already satisfied: certifi>=2017.4.17 in c:\\users\\achla\\downloads\\ml\\dvc\\dvc_venv\\lib\\site-packages (from requests->dvc-studio-client<1,>=0.20->dvclive) (2025.8.3)\n",
      "Requirement already satisfied: markdown-it-py>=2.2.0 in c:\\users\\achla\\downloads\\ml\\dvc\\dvc_venv\\lib\\site-packages (from rich>=12->dvc>=3.48.4->dvclive) (4.0.0)\n",
      "Requirement already satisfied: pygments<3.0.0,>=2.13.0 in c:\\users\\achla\\downloads\\ml\\dvc\\dvc_venv\\lib\\site-packages (from rich>=12->dvc>=3.48.4->dvclive) (2.19.2)\n",
      "Requirement already satisfied: mdurl~=0.1 in c:\\users\\achla\\downloads\\ml\\dvc\\dvc_venv\\lib\\site-packages (from markdown-it-py>=2.2.0->rich>=12->dvc>=3.48.4->dvclive) (0.1.2)\n",
      "Requirement already satisfied: ruamel.yaml.clib>=0.2.7 in c:\\users\\achla\\downloads\\ml\\dvc\\dvc_venv\\lib\\site-packages (from ruamel.yaml->dvclive) (0.2.12)\n",
      "Requirement already satisfied: shellingham>=1.3.0 in c:\\users\\achla\\downloads\\ml\\dvc\\dvc_venv\\lib\\site-packages (from typer>=0.4.1->gto->dvclive) (1.5.4)\n",
      "Requirement already satisfied: setuptools in c:\\users\\achla\\downloads\\ml\\dvc\\dvc_venv\\lib\\site-packages (from zc.lockfile>=1.2.1->dvc>=3.48.4->dvclive) (80.9.0)\n",
      "Requirement already satisfied: aiohappyeyeballs>=2.5.0 in c:\\users\\achla\\downloads\\ml\\dvc\\dvc_venv\\lib\\site-packages (from aiohttp->aiohttp-retry>=2.5.0->scmrepo<4,>=3->dvclive) (2.6.1)\n",
      "Requirement already satisfied: aiosignal>=1.4.0 in c:\\users\\achla\\downloads\\ml\\dvc\\dvc_venv\\lib\\site-packages (from aiohttp->aiohttp-retry>=2.5.0->scmrepo<4,>=3->dvclive) (1.4.0)\n",
      "Requirement already satisfied: frozenlist>=1.1.1 in c:\\users\\achla\\downloads\\ml\\dvc\\dvc_venv\\lib\\site-packages (from aiohttp->aiohttp-retry>=2.5.0->scmrepo<4,>=3->dvclive) (1.7.0)\n",
      "Requirement already satisfied: multidict<7.0,>=4.5 in c:\\users\\achla\\downloads\\ml\\dvc\\dvc_venv\\lib\\site-packages (from aiohttp->aiohttp-retry>=2.5.0->scmrepo<4,>=3->dvclive) (6.6.4)\n",
      "Requirement already satisfied: propcache>=0.2.0 in c:\\users\\achla\\downloads\\ml\\dvc\\dvc_venv\\lib\\site-packages (from aiohttp->aiohttp-retry>=2.5.0->scmrepo<4,>=3->dvclive) (0.3.2)\n",
      "Requirement already satisfied: yarl<2.0,>=1.17.0 in c:\\users\\achla\\downloads\\ml\\dvc\\dvc_venv\\lib\\site-packages (from aiohttp->aiohttp-retry>=2.5.0->scmrepo<4,>=3->dvclive) (1.20.1)\n",
      "Requirement already satisfied: nvidia-ml-py>=12.0.0 in c:\\users\\achla\\downloads\\ml\\dvc\\dvc_venv\\lib\\site-packages (from pynvml->dvclive) (13.580.82)\n"
     ]
    }
   ],
   "source": [
    "!pip install dvclive"
   ]
  },
  {
   "cell_type": "code",
   "execution_count": 3,
   "id": "c36b2ec4-9043-4f9a-8808-9ae4b53400f9",
   "metadata": {},
   "outputs": [
    {
     "name": "stdout",
     "output_type": "stream",
     "text": [
      "Reinitialized existing Git repository in C:/Users/achla/Downloads/ML/dvc/dvc_flights_price_prediction/.git/\n"
     ]
    }
   ],
   "source": [
    "!git init"
   ]
  },
  {
   "cell_type": "code",
   "execution_count": 5,
   "id": "32cfb6e9-3f91-4019-b969-0b77bb2d82b5",
   "metadata": {},
   "outputs": [
    {
     "name": "stdout",
     "output_type": "stream",
     "text": [
      "Initialized DVC repository.\n",
      "\n",
      "You can now commit the changes to git.\n",
      "\n",
      "+---------------------------------------------------------------------+\n",
      "|                                                                     |\n",
      "|        DVC has enabled anonymous aggregate usage analytics.         |\n",
      "|     Read the analytics documentation (and how to opt-out) here:     |\n",
      "|             <https://dvc.org/doc/user-guide/analytics>              |\n",
      "|                                                                     |\n",
      "+---------------------------------------------------------------------+\n",
      "\n",
      "What's next?\n",
      "------------\n",
      "- Check out the documentation: <https://dvc.org/doc>\n",
      "- Get help and share ideas: <https://dvc.org/chat>\n",
      "- Star us on GitHub: <https://github.com/iterative/dvc>\n"
     ]
    }
   ],
   "source": [
    "!dvc init -f"
   ]
  },
  {
   "cell_type": "code",
   "execution_count": 6,
   "id": "63cfff67-9c23-45f0-93f2-356953ce7a3b",
   "metadata": {},
   "outputs": [],
   "source": [
    "!git config --global user.name \"amsha16\"\n",
    "!git config --global user.email \"sharma.yashi@gmail.com\""
   ]
  },
  {
   "cell_type": "code",
   "execution_count": 7,
   "id": "b6e0dea4-9ef4-41b4-b87b-0ac8020939d3",
   "metadata": {},
   "outputs": [
    {
     "name": "stdout",
     "output_type": "stream",
     "text": [
      "On branch main\n",
      "Your branch is up to date with 'origin/main'.\n",
      "\n",
      "Changes not staged for commit:\n",
      "  (use \"git add <file>...\" to update what will be committed)\n",
      "  (use \"git restore <file>...\" to discard changes in working directory)\n",
      "\tmodified:   FlightsPricePrediction.ipynb\n",
      "\n",
      "Untracked files:\n",
      "  (use \"git add <file>...\" to include in what will be committed)\n",
      "\t.ipynb_checkpoints/\n",
      "\tDNC.ipynb\n",
      "\tUntitled.ipynb\n",
      "\tduration_vs_price.csv\n",
      "\n",
      "no changes added to commit (use \"git add\" and/or \"git commit -a\")\n"
     ]
    }
   ],
   "source": [
    "!git status"
   ]
  },
  {
   "cell_type": "code",
   "execution_count": 5,
   "id": "d034b5a6-fdba-4ed4-8e1c-659933a71ab3",
   "metadata": {},
   "outputs": [
    {
     "name": "stdout",
     "output_type": "stream",
     "text": [
      "[master (root-commit) 5485eec] Initialised DVC for flights proce prediction\n",
      " 3 files changed, 6 insertions(+)\n",
      " create mode 100644 .dvc/.gitignore\n",
      " create mode 100644 .dvc/config\n",
      " create mode 100644 .dvcignore\n"
     ]
    }
   ],
   "source": [
    "!git commit -m \"Initialised DVC for flights proce prediction\""
   ]
  },
  {
   "cell_type": "code",
   "execution_count": 8,
   "id": "81af6a0b-b052-4289-81b4-3b0a4b525de2",
   "metadata": {},
   "outputs": [
    {
     "name": "stdout",
     "output_type": "stream",
     "text": [
      "commit 437d701ef82ef2a867645796bb539cfb6799e923\n",
      "Author: amsha16 <sharma.yashi@gmail.com>\n",
      "Date:   Thu Sep 18 17:57:29 2025 +0530\n",
      "\n",
      "    adding all files to Repo\n",
      "\n",
      "commit 209c402236dde55dfc9f55e053fa1d0911368407\n",
      "Author: amsha16 <sharma.yashi@gmail.com>\n",
      "Date:   Thu Sep 18 17:47:30 2025 +0530\n",
      "\n",
      "    Committing model, data, and experiment files for RF model\n",
      "\n",
      "commit 347215e1a12a23ed538cb496ceedfe812c927f6e\n",
      "Author: amsha16 <sharma.yashi@gmail.com>\n",
      "Date:   Thu Sep 18 14:27:54 2025 +0530\n",
      "\n",
      "    LR Experiment\n",
      "\n",
      "commit 5485eecca2a05eba2418ad27bcc228b595cd2105\n",
      "Author: amsha16 <sharma.yashi@gmail.com>\n",
      "Date:   Tue Sep 16 16:36:18 2025 +0530\n",
      "\n",
      "    Initialised DVC for flights proce prediction\n"
     ]
    }
   ],
   "source": [
    "!git log"
   ]
  },
  {
   "cell_type": "code",
   "execution_count": 9,
   "id": "d11c142b-83ea-4f88-9a75-926598781bf7",
   "metadata": {},
   "outputs": [
    {
     "name": "stderr",
     "output_type": "stream",
     "text": [
      "error: remote origin already exists.\n"
     ]
    }
   ],
   "source": [
    "!git remote add origin https://github.com/amsha16/dvc_flights_price_prediction.git"
   ]
  },
  {
   "cell_type": "code",
   "execution_count": 10,
   "id": "383ea5aa-b8b1-40da-8ebb-71ee3a388318",
   "metadata": {},
   "outputs": [],
   "source": [
    "!git branch -M main"
   ]
  },
  {
   "cell_type": "code",
   "execution_count": 10,
   "id": "f30ef2ad-139a-43de-8b2f-2566b5a45bea",
   "metadata": {},
   "outputs": [
    {
     "name": "stdout",
     "output_type": "stream",
     "text": [
      "branch 'main' set up to track 'origin/main'.\n"
     ]
    },
    {
     "name": "stderr",
     "output_type": "stream",
     "text": [
      "To https://github.com/amsha16/dvc_flights_price_prediction.git\n",
      " * [new branch]      main -> main\n"
     ]
    }
   ],
   "source": [
    "!git push -u origin main"
   ]
  },
  {
   "cell_type": "code",
   "execution_count": 11,
   "id": "ec81d3e7-b346-41b7-9f06-6d4898736c39",
   "metadata": {},
   "outputs": [
    {
     "name": "stdout",
     "output_type": "stream",
     "text": [
      "Requirement already satisfied: dvclive in c:\\users\\achla\\downloads\\ml\\dvc\\dvc_venv\\lib\\site-packages (3.48.5)\n",
      "Requirement already satisfied: dvc>=3.48.4 in c:\\users\\achla\\downloads\\ml\\dvc\\dvc_venv\\lib\\site-packages (from dvclive) (3.63.0)\n",
      "Requirement already satisfied: dvc-render<2,>=1.0.0 in c:\\users\\achla\\downloads\\ml\\dvc\\dvc_venv\\lib\\site-packages (from dvclive) (1.0.2)\n",
      "Requirement already satisfied: dvc-studio-client<1,>=0.20 in c:\\users\\achla\\downloads\\ml\\dvc\\dvc_venv\\lib\\site-packages (from dvclive) (0.22.0)\n",
      "Requirement already satisfied: funcy in c:\\users\\achla\\downloads\\ml\\dvc\\dvc_venv\\lib\\site-packages (from dvclive) (2.0)\n",
      "Requirement already satisfied: gto in c:\\users\\achla\\downloads\\ml\\dvc\\dvc_venv\\lib\\site-packages (from dvclive) (1.8.0)\n",
      "Requirement already satisfied: ruamel.yaml in c:\\users\\achla\\downloads\\ml\\dvc\\dvc_venv\\lib\\site-packages (from dvclive) (0.18.15)\n",
      "Requirement already satisfied: scmrepo<4,>=3 in c:\\users\\achla\\downloads\\ml\\dvc\\dvc_venv\\lib\\site-packages (from dvclive) (3.5.2)\n",
      "Requirement already satisfied: psutil in c:\\users\\achla\\downloads\\ml\\dvc\\dvc_venv\\lib\\site-packages (from dvclive) (7.0.0)\n",
      "Requirement already satisfied: pynvml in c:\\users\\achla\\downloads\\ml\\dvc\\dvc_venv\\lib\\site-packages (from dvclive) (13.0.1)\n",
      "Requirement already satisfied: dulwich in c:\\users\\achla\\downloads\\ml\\dvc\\dvc_venv\\lib\\site-packages (from dvc-studio-client<1,>=0.20->dvclive) (0.24.1)\n",
      "Requirement already satisfied: requests in c:\\users\\achla\\downloads\\ml\\dvc\\dvc_venv\\lib\\site-packages (from dvc-studio-client<1,>=0.20->dvclive) (2.32.5)\n",
      "Requirement already satisfied: voluptuous in c:\\users\\achla\\downloads\\ml\\dvc\\dvc_venv\\lib\\site-packages (from dvc-studio-client<1,>=0.20->dvclive) (0.15.2)\n",
      "Requirement already satisfied: gitpython>3 in c:\\users\\achla\\downloads\\ml\\dvc\\dvc_venv\\lib\\site-packages (from scmrepo<4,>=3->dvclive) (3.1.45)\n",
      "Requirement already satisfied: pygit2>=1.14.0 in c:\\users\\achla\\downloads\\ml\\dvc\\dvc_venv\\lib\\site-packages (from scmrepo<4,>=3->dvclive) (1.18.2)\n",
      "Requirement already satisfied: pygtrie>=2.3.2 in c:\\users\\achla\\downloads\\ml\\dvc\\dvc_venv\\lib\\site-packages (from scmrepo<4,>=3->dvclive) (2.5.0)\n",
      "Requirement already satisfied: fsspec>=2024.2.0 in c:\\users\\achla\\downloads\\ml\\dvc\\dvc_venv\\lib\\site-packages (from fsspec[tqdm]>=2024.2.0->scmrepo<4,>=3->dvclive) (2025.9.0)\n",
      "Requirement already satisfied: pathspec>=0.9.0 in c:\\users\\achla\\downloads\\ml\\dvc\\dvc_venv\\lib\\site-packages (from scmrepo<4,>=3->dvclive) (0.12.1)\n",
      "Requirement already satisfied: asyncssh<3,>=2.13.1 in c:\\users\\achla\\downloads\\ml\\dvc\\dvc_venv\\lib\\site-packages (from scmrepo<4,>=3->dvclive) (2.21.0)\n",
      "Requirement already satisfied: aiohttp-retry>=2.5.0 in c:\\users\\achla\\downloads\\ml\\dvc\\dvc_venv\\lib\\site-packages (from scmrepo<4,>=3->dvclive) (2.9.1)\n",
      "Requirement already satisfied: tqdm in c:\\users\\achla\\downloads\\ml\\dvc\\dvc_venv\\lib\\site-packages (from scmrepo<4,>=3->dvclive) (4.67.1)\n",
      "Requirement already satisfied: cryptography>=39.0 in c:\\users\\achla\\downloads\\ml\\dvc\\dvc_venv\\lib\\site-packages (from asyncssh<3,>=2.13.1->scmrepo<4,>=3->dvclive) (43.0.3)\n",
      "Requirement already satisfied: typing_extensions>=4.0.0 in c:\\users\\achla\\downloads\\ml\\dvc\\dvc_venv\\lib\\site-packages (from asyncssh<3,>=2.13.1->scmrepo<4,>=3->dvclive) (4.15.0)\n",
      "Requirement already satisfied: aiohttp in c:\\users\\achla\\downloads\\ml\\dvc\\dvc_venv\\lib\\site-packages (from aiohttp-retry>=2.5.0->scmrepo<4,>=3->dvclive) (3.12.15)\n",
      "Requirement already satisfied: cffi>=1.12 in c:\\users\\achla\\downloads\\ml\\dvc\\dvc_venv\\lib\\site-packages (from cryptography>=39.0->asyncssh<3,>=2.13.1->scmrepo<4,>=3->dvclive) (2.0.0)\n",
      "Requirement already satisfied: pycparser in c:\\users\\achla\\downloads\\ml\\dvc\\dvc_venv\\lib\\site-packages (from cffi>=1.12->cryptography>=39.0->asyncssh<3,>=2.13.1->scmrepo<4,>=3->dvclive) (2.23)\n",
      "Requirement already satisfied: urllib3>=1.25 in c:\\users\\achla\\downloads\\ml\\dvc\\dvc_venv\\lib\\site-packages (from dulwich->dvc-studio-client<1,>=0.20->dvclive) (2.5.0)\n",
      "Requirement already satisfied: attrs>=22.2.0 in c:\\users\\achla\\downloads\\ml\\dvc\\dvc_venv\\lib\\site-packages (from dvc>=3.48.4->dvclive) (25.3.0)\n",
      "Requirement already satisfied: celery in c:\\users\\achla\\downloads\\ml\\dvc\\dvc_venv\\lib\\site-packages (from dvc>=3.48.4->dvclive) (5.5.3)\n",
      "Requirement already satisfied: colorama>=0.3.9 in c:\\users\\achla\\downloads\\ml\\dvc\\dvc_venv\\lib\\site-packages (from dvc>=3.48.4->dvclive) (0.4.6)\n",
      "Requirement already satisfied: configobj>=5.0.9 in c:\\users\\achla\\downloads\\ml\\dvc\\dvc_venv\\lib\\site-packages (from dvc>=3.48.4->dvclive) (5.0.9)\n",
      "Requirement already satisfied: distro>=1.3 in c:\\users\\achla\\downloads\\ml\\dvc\\dvc_venv\\lib\\site-packages (from dvc>=3.48.4->dvclive) (1.9.0)\n",
      "Requirement already satisfied: dpath<3,>=2.1.0 in c:\\users\\achla\\downloads\\ml\\dvc\\dvc_venv\\lib\\site-packages (from dvc>=3.48.4->dvclive) (2.2.0)\n",
      "Requirement already satisfied: dvc-data<3.17,>=3.16.2 in c:\\users\\achla\\downloads\\ml\\dvc\\dvc_venv\\lib\\site-packages (from dvc>=3.48.4->dvclive) (3.16.12)\n",
      "Requirement already satisfied: dvc-http>=2.29.0 in c:\\users\\achla\\downloads\\ml\\dvc\\dvc_venv\\lib\\site-packages (from dvc>=3.48.4->dvclive) (2.32.0)\n",
      "Requirement already satisfied: dvc-objects in c:\\users\\achla\\downloads\\ml\\dvc\\dvc_venv\\lib\\site-packages (from dvc>=3.48.4->dvclive) (5.1.1)\n",
      "Requirement already satisfied: dvc-task<1,>=0.3.0 in c:\\users\\achla\\downloads\\ml\\dvc\\dvc_venv\\lib\\site-packages (from dvc>=3.48.4->dvclive) (0.40.2)\n",
      "Requirement already satisfied: flatten_dict<1,>=0.4.1 in c:\\users\\achla\\downloads\\ml\\dvc\\dvc_venv\\lib\\site-packages (from dvc>=3.48.4->dvclive) (0.4.2)\n",
      "Requirement already satisfied: flufl.lock<9,>=8.1.0 in c:\\users\\achla\\downloads\\ml\\dvc\\dvc_venv\\lib\\site-packages (from dvc>=3.48.4->dvclive) (8.2.0)\n",
      "Requirement already satisfied: grandalf<1,>=0.7 in c:\\users\\achla\\downloads\\ml\\dvc\\dvc_venv\\lib\\site-packages (from dvc>=3.48.4->dvclive) (0.8)\n",
      "Requirement already satisfied: hydra-core>=1.1 in c:\\users\\achla\\downloads\\ml\\dvc\\dvc_venv\\lib\\site-packages (from dvc>=3.48.4->dvclive) (1.3.2)\n",
      "Requirement already satisfied: iterative-telemetry>=0.0.7 in c:\\users\\achla\\downloads\\ml\\dvc\\dvc_venv\\lib\\site-packages (from dvc>=3.48.4->dvclive) (0.0.10)\n",
      "Requirement already satisfied: kombu in c:\\users\\achla\\downloads\\ml\\dvc\\dvc_venv\\lib\\site-packages (from dvc>=3.48.4->dvclive) (5.5.4)\n",
      "Requirement already satisfied: networkx>=2.5 in c:\\users\\achla\\downloads\\ml\\dvc\\dvc_venv\\lib\\site-packages (from dvc>=3.48.4->dvclive) (3.5)\n",
      "Requirement already satisfied: omegaconf in c:\\users\\achla\\downloads\\ml\\dvc\\dvc_venv\\lib\\site-packages (from dvc>=3.48.4->dvclive) (2.3.0)\n",
      "Requirement already satisfied: packaging>=19 in c:\\users\\achla\\downloads\\ml\\dvc\\dvc_venv\\lib\\site-packages (from dvc>=3.48.4->dvclive) (25.0)\n",
      "Requirement already satisfied: platformdirs<5,>=3.1.1 in c:\\users\\achla\\downloads\\ml\\dvc\\dvc_venv\\lib\\site-packages (from dvc>=3.48.4->dvclive) (4.4.0)\n",
      "Requirement already satisfied: pydot>=1.2.4 in c:\\users\\achla\\downloads\\ml\\dvc\\dvc_venv\\lib\\site-packages (from dvc>=3.48.4->dvclive) (4.0.1)\n",
      "Requirement already satisfied: pyparsing>=2.4.7 in c:\\users\\achla\\downloads\\ml\\dvc\\dvc_venv\\lib\\site-packages (from dvc>=3.48.4->dvclive) (3.2.4)\n",
      "Requirement already satisfied: rich>=12 in c:\\users\\achla\\downloads\\ml\\dvc\\dvc_venv\\lib\\site-packages (from dvc>=3.48.4->dvclive) (14.1.0)\n",
      "Requirement already satisfied: shortuuid>=0.5 in c:\\users\\achla\\downloads\\ml\\dvc\\dvc_venv\\lib\\site-packages (from dvc>=3.48.4->dvclive) (1.0.13)\n",
      "Requirement already satisfied: shtab<2,>=1.3.4 in c:\\users\\achla\\downloads\\ml\\dvc\\dvc_venv\\lib\\site-packages (from dvc>=3.48.4->dvclive) (1.7.2)\n",
      "Requirement already satisfied: tabulate>=0.8.7 in c:\\users\\achla\\downloads\\ml\\dvc\\dvc_venv\\lib\\site-packages (from dvc>=3.48.4->dvclive) (0.9.0)\n",
      "Requirement already satisfied: tomlkit>=0.11.1 in c:\\users\\achla\\downloads\\ml\\dvc\\dvc_venv\\lib\\site-packages (from dvc>=3.48.4->dvclive) (0.13.3)\n",
      "Requirement already satisfied: zc.lockfile>=1.2.1 in c:\\users\\achla\\downloads\\ml\\dvc\\dvc_venv\\lib\\site-packages (from dvc>=3.48.4->dvclive) (3.0.post1)\n",
      "Requirement already satisfied: dictdiffer>=0.8.1 in c:\\users\\achla\\downloads\\ml\\dvc\\dvc_venv\\lib\\site-packages (from dvc-data<3.17,>=3.16.2->dvc>=3.48.4->dvclive) (0.9.0)\n",
      "Requirement already satisfied: diskcache>=5.2.1 in c:\\users\\achla\\downloads\\ml\\dvc\\dvc_venv\\lib\\site-packages (from dvc-data<3.17,>=3.16.2->dvc>=3.48.4->dvclive) (5.6.3)\n",
      "Requirement already satisfied: sqltrie<1,>=0.11.0 in c:\\users\\achla\\downloads\\ml\\dvc\\dvc_venv\\lib\\site-packages (from dvc-data<3.17,>=3.16.2->dvc>=3.48.4->dvclive) (0.11.2)\n",
      "Requirement already satisfied: orjson<4,>=3 in c:\\users\\achla\\downloads\\ml\\dvc\\dvc_venv\\lib\\site-packages (from dvc-data<3.17,>=3.16.2->dvc>=3.48.4->dvclive) (3.11.3)\n",
      "Requirement already satisfied: pywin32>=225 in c:\\users\\achla\\downloads\\ml\\dvc\\dvc_venv\\lib\\site-packages (from dvc-task<1,>=0.3.0->dvc>=3.48.4->dvclive) (311)\n",
      "Requirement already satisfied: billiard<5.0,>=4.2.1 in c:\\users\\achla\\downloads\\ml\\dvc\\dvc_venv\\lib\\site-packages (from celery->dvc>=3.48.4->dvclive) (4.2.1)\n",
      "Requirement already satisfied: vine<6.0,>=5.1.0 in c:\\users\\achla\\downloads\\ml\\dvc\\dvc_venv\\lib\\site-packages (from celery->dvc>=3.48.4->dvclive) (5.1.0)\n",
      "Requirement already satisfied: click<9.0,>=8.1.2 in c:\\users\\achla\\downloads\\ml\\dvc\\dvc_venv\\lib\\site-packages (from celery->dvc>=3.48.4->dvclive) (8.2.1)\n",
      "Requirement already satisfied: click-didyoumean>=0.3.0 in c:\\users\\achla\\downloads\\ml\\dvc\\dvc_venv\\lib\\site-packages (from celery->dvc>=3.48.4->dvclive) (0.3.1)\n",
      "Requirement already satisfied: click-repl>=0.2.0 in c:\\users\\achla\\downloads\\ml\\dvc\\dvc_venv\\lib\\site-packages (from celery->dvc>=3.48.4->dvclive) (0.3.0)\n",
      "Requirement already satisfied: click-plugins>=1.1.1 in c:\\users\\achla\\downloads\\ml\\dvc\\dvc_venv\\lib\\site-packages (from celery->dvc>=3.48.4->dvclive) (1.1.1.2)\n",
      "Requirement already satisfied: python-dateutil>=2.8.2 in c:\\users\\achla\\downloads\\ml\\dvc\\dvc_venv\\lib\\site-packages (from celery->dvc>=3.48.4->dvclive) (2.9.0.post0)\n",
      "Requirement already satisfied: six<2.0,>=1.12 in c:\\users\\achla\\downloads\\ml\\dvc\\dvc_venv\\lib\\site-packages (from flatten_dict<1,>=0.4.1->dvc>=3.48.4->dvclive) (1.17.0)\n",
      "Requirement already satisfied: atpublic in c:\\users\\achla\\downloads\\ml\\dvc\\dvc_venv\\lib\\site-packages (from flufl.lock<9,>=8.1.0->dvc>=3.48.4->dvclive) (6.0.1)\n",
      "Requirement already satisfied: entrypoints in c:\\users\\achla\\downloads\\ml\\dvc\\dvc_venv\\lib\\site-packages (from gto->dvclive) (0.4)\n",
      "Requirement already satisfied: pydantic!=2.0.0,<3,>=1.9.0 in c:\\users\\achla\\downloads\\ml\\dvc\\dvc_venv\\lib\\site-packages (from gto->dvclive) (2.11.9)\n",
      "Requirement already satisfied: semver>=2.13.0 in c:\\users\\achla\\downloads\\ml\\dvc\\dvc_venv\\lib\\site-packages (from gto->dvclive) (3.0.4)\n",
      "Requirement already satisfied: typer>=0.4.1 in c:\\users\\achla\\downloads\\ml\\dvc\\dvc_venv\\lib\\site-packages (from gto->dvclive) (0.17.4)\n",
      "Requirement already satisfied: amqp<6.0.0,>=5.1.1 in c:\\users\\achla\\downloads\\ml\\dvc\\dvc_venv\\lib\\site-packages (from kombu->dvc>=3.48.4->dvclive) (5.3.1)\n",
      "Requirement already satisfied: tzdata>=2025.2 in c:\\users\\achla\\downloads\\ml\\dvc\\dvc_venv\\lib\\site-packages (from kombu->dvc>=3.48.4->dvclive) (2025.2)\n",
      "Requirement already satisfied: annotated-types>=0.6.0 in c:\\users\\achla\\downloads\\ml\\dvc\\dvc_venv\\lib\\site-packages (from pydantic!=2.0.0,<3,>=1.9.0->gto->dvclive) (0.7.0)\n",
      "Requirement already satisfied: pydantic-core==2.33.2 in c:\\users\\achla\\downloads\\ml\\dvc\\dvc_venv\\lib\\site-packages (from pydantic!=2.0.0,<3,>=1.9.0->gto->dvclive) (2.33.2)\n",
      "Requirement already satisfied: typing-inspection>=0.4.0 in c:\\users\\achla\\downloads\\ml\\dvc\\dvc_venv\\lib\\site-packages (from pydantic!=2.0.0,<3,>=1.9.0->gto->dvclive) (0.4.1)\n",
      "Requirement already satisfied: prompt-toolkit>=3.0.36 in c:\\users\\achla\\downloads\\ml\\dvc\\dvc_venv\\lib\\site-packages (from click-repl>=0.2.0->celery->dvc>=3.48.4->dvclive) (3.0.52)\n",
      "Requirement already satisfied: gitdb<5,>=4.0.1 in c:\\users\\achla\\downloads\\ml\\dvc\\dvc_venv\\lib\\site-packages (from gitpython>3->scmrepo<4,>=3->dvclive) (4.0.12)\n",
      "Requirement already satisfied: smmap<6,>=3.0.1 in c:\\users\\achla\\downloads\\ml\\dvc\\dvc_venv\\lib\\site-packages (from gitdb<5,>=4.0.1->gitpython>3->scmrepo<4,>=3->dvclive) (5.0.2)\n",
      "Requirement already satisfied: antlr4-python3-runtime==4.9.* in c:\\users\\achla\\downloads\\ml\\dvc\\dvc_venv\\lib\\site-packages (from hydra-core>=1.1->dvc>=3.48.4->dvclive) (4.9.3)\n",
      "Requirement already satisfied: PyYAML>=5.1.0 in c:\\users\\achla\\downloads\\ml\\dvc\\dvc_venv\\lib\\site-packages (from omegaconf->dvc>=3.48.4->dvclive) (6.0.2)\n",
      "Requirement already satisfied: appdirs in c:\\users\\achla\\downloads\\ml\\dvc\\dvc_venv\\lib\\site-packages (from iterative-telemetry>=0.0.7->dvc>=3.48.4->dvclive) (1.4.4)\n",
      "Requirement already satisfied: filelock in c:\\users\\achla\\downloads\\ml\\dvc\\dvc_venv\\lib\\site-packages (from iterative-telemetry>=0.0.7->dvc>=3.48.4->dvclive) (3.19.1)\n",
      "Requirement already satisfied: wcwidth in c:\\users\\achla\\downloads\\ml\\dvc\\dvc_venv\\lib\\site-packages (from prompt-toolkit>=3.0.36->click-repl>=0.2.0->celery->dvc>=3.48.4->dvclive) (0.2.13)\n",
      "Requirement already satisfied: charset_normalizer<4,>=2 in c:\\users\\achla\\downloads\\ml\\dvc\\dvc_venv\\lib\\site-packages (from requests->dvc-studio-client<1,>=0.20->dvclive) (3.4.3)\n",
      "Requirement already satisfied: idna<4,>=2.5 in c:\\users\\achla\\downloads\\ml\\dvc\\dvc_venv\\lib\\site-packages (from requests->dvc-studio-client<1,>=0.20->dvclive) (3.10)\n",
      "Requirement already satisfied: certifi>=2017.4.17 in c:\\users\\achla\\downloads\\ml\\dvc\\dvc_venv\\lib\\site-packages (from requests->dvc-studio-client<1,>=0.20->dvclive) (2025.8.3)\n",
      "Requirement already satisfied: markdown-it-py>=2.2.0 in c:\\users\\achla\\downloads\\ml\\dvc\\dvc_venv\\lib\\site-packages (from rich>=12->dvc>=3.48.4->dvclive) (4.0.0)\n",
      "Requirement already satisfied: pygments<3.0.0,>=2.13.0 in c:\\users\\achla\\downloads\\ml\\dvc\\dvc_venv\\lib\\site-packages (from rich>=12->dvc>=3.48.4->dvclive) (2.19.2)\n",
      "Requirement already satisfied: mdurl~=0.1 in c:\\users\\achla\\downloads\\ml\\dvc\\dvc_venv\\lib\\site-packages (from markdown-it-py>=2.2.0->rich>=12->dvc>=3.48.4->dvclive) (0.1.2)\n",
      "Requirement already satisfied: ruamel.yaml.clib>=0.2.7 in c:\\users\\achla\\downloads\\ml\\dvc\\dvc_venv\\lib\\site-packages (from ruamel.yaml->dvclive) (0.2.12)\n",
      "Requirement already satisfied: shellingham>=1.3.0 in c:\\users\\achla\\downloads\\ml\\dvc\\dvc_venv\\lib\\site-packages (from typer>=0.4.1->gto->dvclive) (1.5.4)\n",
      "Requirement already satisfied: setuptools in c:\\users\\achla\\downloads\\ml\\dvc\\dvc_venv\\lib\\site-packages (from zc.lockfile>=1.2.1->dvc>=3.48.4->dvclive) (80.9.0)\n",
      "Requirement already satisfied: aiohappyeyeballs>=2.5.0 in c:\\users\\achla\\downloads\\ml\\dvc\\dvc_venv\\lib\\site-packages (from aiohttp->aiohttp-retry>=2.5.0->scmrepo<4,>=3->dvclive) (2.6.1)\n",
      "Requirement already satisfied: aiosignal>=1.4.0 in c:\\users\\achla\\downloads\\ml\\dvc\\dvc_venv\\lib\\site-packages (from aiohttp->aiohttp-retry>=2.5.0->scmrepo<4,>=3->dvclive) (1.4.0)\n",
      "Requirement already satisfied: frozenlist>=1.1.1 in c:\\users\\achla\\downloads\\ml\\dvc\\dvc_venv\\lib\\site-packages (from aiohttp->aiohttp-retry>=2.5.0->scmrepo<4,>=3->dvclive) (1.7.0)\n",
      "Requirement already satisfied: multidict<7.0,>=4.5 in c:\\users\\achla\\downloads\\ml\\dvc\\dvc_venv\\lib\\site-packages (from aiohttp->aiohttp-retry>=2.5.0->scmrepo<4,>=3->dvclive) (6.6.4)\n",
      "Requirement already satisfied: propcache>=0.2.0 in c:\\users\\achla\\downloads\\ml\\dvc\\dvc_venv\\lib\\site-packages (from aiohttp->aiohttp-retry>=2.5.0->scmrepo<4,>=3->dvclive) (0.3.2)\n",
      "Requirement already satisfied: yarl<2.0,>=1.17.0 in c:\\users\\achla\\downloads\\ml\\dvc\\dvc_venv\\lib\\site-packages (from aiohttp->aiohttp-retry>=2.5.0->scmrepo<4,>=3->dvclive) (1.20.1)\n",
      "Requirement already satisfied: nvidia-ml-py>=12.0.0 in c:\\users\\achla\\downloads\\ml\\dvc\\dvc_venv\\lib\\site-packages (from pynvml->dvclive) (13.580.82)\n"
     ]
    }
   ],
   "source": [
    "!pip install dvclive"
   ]
  },
  {
   "cell_type": "code",
   "execution_count": 12,
   "id": "2f0ff758-f1af-4724-a854-7b1fd3917611",
   "metadata": {},
   "outputs": [
    {
     "name": "stderr",
     "output_type": "stream",
     "text": [
      "A subdirectory or file C:\\Users\\achla\\Downloads\\ML\\dvc_storage2 already exists.\n"
     ]
    },
    {
     "name": "stdout",
     "output_type": "stream",
     "text": [
      "Setting 'localremote' as a default remote.\n",
      "localremote     C:\\Users\\achla\\Downloads\\ML\\dvc_storage2        (default)\n"
     ]
    }
   ],
   "source": [
    "!mkdir C:\\Users\\achla\\Downloads\\ML\\dvc_storage2\n",
    "!dvc remote add -d localremote C:\\Users\\achla\\Downloads\\ML\\dvc_storage2\n",
    "!dvc remote list"
   ]
  },
  {
   "cell_type": "code",
   "execution_count": 13,
   "id": "9e2bcc74-f93e-4ba7-b9aa-85902b8c2836",
   "metadata": {},
   "outputs": [
    {
     "name": "stdout",
     "output_type": "stream",
     "text": [
      "localremote     C:\\Users\\achla\\Downloads\\ML\\dvc_storage2        (default)\n"
     ]
    }
   ],
   "source": [
    "!dvc remote list"
   ]
  },
  {
   "cell_type": "code",
   "execution_count": 58,
   "id": "97d54a5b-a3fa-4afd-922d-00cc0be5d3c3",
   "metadata": {},
   "outputs": [],
   "source": [
    "!dvc config --global studio.token dsat_3klW3PIKyAsRhoNp7nZBKLGPx3BrpxUKu954BKVfVPYEOt3Uv"
   ]
  },
  {
   "cell_type": "code",
   "execution_count": 18,
   "id": "77d24a89-1843-4d25-8ede-585899ec8a8c",
   "metadata": {},
   "outputs": [
    {
     "name": "stdout",
     "output_type": "stream",
     "text": [
      "On branch main\n",
      "Your branch is up to date with 'origin/main'.\n",
      "\n",
      "Changes not staged for commit:\n",
      "  (use \"git add <file>...\" to update what will be committed)\n",
      "  (use \"git restore <file>...\" to discard changes in working directory)\n",
      "\tmodified:   .dvc/config\n",
      "\tmodified:   FlightsPricePrediction.ipynb\n",
      "\n",
      "Untracked files:\n",
      "  (use \"git add <file>...\" to include in what will be committed)\n",
      "\t.ipynb_checkpoints/\n",
      "\tDNC.ipynb\n",
      "\tUntitled.ipynb\n",
      "\tduration_vs_price.csv\n",
      "\n",
      "no changes added to commit (use \"git add\" and/or \"git commit -a\")\n"
     ]
    }
   ],
   "source": [
    "!notepad .dvc/config\n",
    "!git status"
   ]
  },
  {
   "cell_type": "code",
   "execution_count": 19,
   "id": "b262926e-35f1-4093-a326-154efddf191c",
   "metadata": {},
   "outputs": [],
   "source": [
    "!git add .dvc/config"
   ]
  },
  {
   "cell_type": "code",
   "execution_count": 20,
   "id": "44055403-865b-4a90-9927-4a54835748e5",
   "metadata": {},
   "outputs": [
    {
     "name": "stdout",
     "output_type": "stream",
     "text": [
      "[main a8367ca] Added local remote to DVC config\n",
      " 1 file changed, 4 insertions(+)\n"
     ]
    }
   ],
   "source": [
    "!git commit -m \"Added local remote to DVC config\""
   ]
  },
  {
   "cell_type": "code",
   "execution_count": 21,
   "id": "5889d134-2188-4021-b59f-760b8feeaa9e",
   "metadata": {},
   "outputs": [
    {
     "name": "stdout",
     "output_type": "stream",
     "text": [
      "branch 'main' set up to track 'origin/main'.\n"
     ]
    },
    {
     "name": "stderr",
     "output_type": "stream",
     "text": [
      "To https://github.com/amsha16/dvc_flights_price_prediction.git\n",
      "   437d701..a8367ca  main -> main\n"
     ]
    }
   ],
   "source": [
    "!git push -u origin main"
   ]
  },
  {
   "cell_type": "code",
   "execution_count": 22,
   "id": "8fb92280-b659-4d43-b78a-c4e10a11d532",
   "metadata": {},
   "outputs": [],
   "source": [
    "import pandas as pd\n",
    "import numpy as np\n",
    "import seaborn as sns\n",
    "import matplotlib.pyplot as plt\n",
    "\n",
    "from sklearn.compose import ColumnTransformer\n",
    "from sklearn.pipeline import Pipeline\n",
    "from sklearn.impute import SimpleImputer\n",
    "from sklearn.preprocessing import StandardScaler, OneHotEncoder\n",
    "from sklearn.model_selection import train_test_split"
   ]
  },
  {
   "cell_type": "code",
   "execution_count": 23,
   "id": "b3c2bbda-e8f4-413c-9762-7e82cae303f2",
   "metadata": {},
   "outputs": [
    {
     "data": {
      "text/html": [
       "<div>\n",
       "<style scoped>\n",
       "    .dataframe tbody tr th:only-of-type {\n",
       "        vertical-align: middle;\n",
       "    }\n",
       "\n",
       "    .dataframe tbody tr th {\n",
       "        vertical-align: top;\n",
       "    }\n",
       "\n",
       "    .dataframe thead th {\n",
       "        text-align: right;\n",
       "    }\n",
       "</style>\n",
       "<table border=\"1\" class=\"dataframe\">\n",
       "  <thead>\n",
       "    <tr style=\"text-align: right;\">\n",
       "      <th></th>\n",
       "      <th>airline</th>\n",
       "      <th>flight</th>\n",
       "      <th>source_city</th>\n",
       "      <th>departure_time</th>\n",
       "      <th>stops</th>\n",
       "      <th>arrival_time</th>\n",
       "      <th>destination_city</th>\n",
       "      <th>class</th>\n",
       "      <th>duration</th>\n",
       "      <th>days_left</th>\n",
       "      <th>price</th>\n",
       "    </tr>\n",
       "  </thead>\n",
       "  <tbody>\n",
       "    <tr>\n",
       "      <th>0</th>\n",
       "      <td>SpiceJet</td>\n",
       "      <td>SG-8709</td>\n",
       "      <td>Delhi</td>\n",
       "      <td>Evening</td>\n",
       "      <td>zero</td>\n",
       "      <td>Night</td>\n",
       "      <td>Mumbai</td>\n",
       "      <td>Economy</td>\n",
       "      <td>2.17</td>\n",
       "      <td>1</td>\n",
       "      <td>5953</td>\n",
       "    </tr>\n",
       "    <tr>\n",
       "      <th>1</th>\n",
       "      <td>SpiceJet</td>\n",
       "      <td>SG-8157</td>\n",
       "      <td>Delhi</td>\n",
       "      <td>Early_Morning</td>\n",
       "      <td>zero</td>\n",
       "      <td>Morning</td>\n",
       "      <td>Mumbai</td>\n",
       "      <td>Economy</td>\n",
       "      <td>2.33</td>\n",
       "      <td>1</td>\n",
       "      <td>5953</td>\n",
       "    </tr>\n",
       "    <tr>\n",
       "      <th>2</th>\n",
       "      <td>AirAsia</td>\n",
       "      <td>I5-764</td>\n",
       "      <td>Delhi</td>\n",
       "      <td>Early_Morning</td>\n",
       "      <td>zero</td>\n",
       "      <td>Early_Morning</td>\n",
       "      <td>Mumbai</td>\n",
       "      <td>Economy</td>\n",
       "      <td>2.17</td>\n",
       "      <td>1</td>\n",
       "      <td>5956</td>\n",
       "    </tr>\n",
       "    <tr>\n",
       "      <th>3</th>\n",
       "      <td>Vistara</td>\n",
       "      <td>UK-995</td>\n",
       "      <td>Delhi</td>\n",
       "      <td>Morning</td>\n",
       "      <td>zero</td>\n",
       "      <td>Afternoon</td>\n",
       "      <td>Mumbai</td>\n",
       "      <td>Economy</td>\n",
       "      <td>2.25</td>\n",
       "      <td>1</td>\n",
       "      <td>5955</td>\n",
       "    </tr>\n",
       "    <tr>\n",
       "      <th>4</th>\n",
       "      <td>Vistara</td>\n",
       "      <td>UK-963</td>\n",
       "      <td>Delhi</td>\n",
       "      <td>Morning</td>\n",
       "      <td>zero</td>\n",
       "      <td>Morning</td>\n",
       "      <td>Mumbai</td>\n",
       "      <td>Economy</td>\n",
       "      <td>2.33</td>\n",
       "      <td>1</td>\n",
       "      <td>5955</td>\n",
       "    </tr>\n",
       "  </tbody>\n",
       "</table>\n",
       "</div>"
      ],
      "text/plain": [
       "    airline   flight source_city departure_time stops   arrival_time  \\\n",
       "0  SpiceJet  SG-8709       Delhi        Evening  zero          Night   \n",
       "1  SpiceJet  SG-8157       Delhi  Early_Morning  zero        Morning   \n",
       "2   AirAsia   I5-764       Delhi  Early_Morning  zero  Early_Morning   \n",
       "3   Vistara   UK-995       Delhi        Morning  zero      Afternoon   \n",
       "4   Vistara   UK-963       Delhi        Morning  zero        Morning   \n",
       "\n",
       "  destination_city    class  duration  days_left  price  \n",
       "0           Mumbai  Economy      2.17          1   5953  \n",
       "1           Mumbai  Economy      2.33          1   5953  \n",
       "2           Mumbai  Economy      2.17          1   5956  \n",
       "3           Mumbai  Economy      2.25          1   5955  \n",
       "4           Mumbai  Economy      2.33          1   5955  "
      ]
     },
     "execution_count": 23,
     "metadata": {},
     "output_type": "execute_result"
    }
   ],
   "source": [
    "airline_price_data = pd.read_csv('data/airline_price_data.csv')\n",
    "\n",
    "airline_price_data.head()"
   ]
  },
  {
   "cell_type": "code",
   "execution_count": 24,
   "id": "c5ccd348-f64e-4591-b541-a2604900bf37",
   "metadata": {},
   "outputs": [
    {
     "data": {
      "text/plain": [
       "(300153, 11)"
      ]
     },
     "execution_count": 24,
     "metadata": {},
     "output_type": "execute_result"
    }
   ],
   "source": [
    "airline_price_data.shape"
   ]
  },
  {
   "cell_type": "code",
   "execution_count": 25,
   "id": "2dd5abbb-16f7-4a42-ba33-81aa959c8cc7",
   "metadata": {},
   "outputs": [
    {
     "data": {
      "text/html": [
       "<div>\n",
       "<style scoped>\n",
       "    .dataframe tbody tr th:only-of-type {\n",
       "        vertical-align: middle;\n",
       "    }\n",
       "\n",
       "    .dataframe tbody tr th {\n",
       "        vertical-align: top;\n",
       "    }\n",
       "\n",
       "    .dataframe thead th {\n",
       "        text-align: right;\n",
       "    }\n",
       "</style>\n",
       "<table border=\"1\" class=\"dataframe\">\n",
       "  <thead>\n",
       "    <tr style=\"text-align: right;\">\n",
       "      <th></th>\n",
       "      <th>airline</th>\n",
       "      <th>counts</th>\n",
       "    </tr>\n",
       "  </thead>\n",
       "  <tbody>\n",
       "    <tr>\n",
       "      <th>0</th>\n",
       "      <td>Vistara</td>\n",
       "      <td>127859</td>\n",
       "    </tr>\n",
       "    <tr>\n",
       "      <th>1</th>\n",
       "      <td>Air_India</td>\n",
       "      <td>80892</td>\n",
       "    </tr>\n",
       "    <tr>\n",
       "      <th>2</th>\n",
       "      <td>Indigo</td>\n",
       "      <td>43120</td>\n",
       "    </tr>\n",
       "    <tr>\n",
       "      <th>3</th>\n",
       "      <td>GO_FIRST</td>\n",
       "      <td>23173</td>\n",
       "    </tr>\n",
       "    <tr>\n",
       "      <th>4</th>\n",
       "      <td>AirAsia</td>\n",
       "      <td>16098</td>\n",
       "    </tr>\n",
       "    <tr>\n",
       "      <th>5</th>\n",
       "      <td>SpiceJet</td>\n",
       "      <td>9011</td>\n",
       "    </tr>\n",
       "  </tbody>\n",
       "</table>\n",
       "</div>"
      ],
      "text/plain": [
       "     airline  counts\n",
       "0    Vistara  127859\n",
       "1  Air_India   80892\n",
       "2     Indigo   43120\n",
       "3   GO_FIRST   23173\n",
       "4    AirAsia   16098\n",
       "5   SpiceJet    9011"
      ]
     },
     "execution_count": 25,
     "metadata": {},
     "output_type": "execute_result"
    }
   ],
   "source": [
    "airline_price_data['airline'].value_counts().rename_axis('airline').to_frame('counts').reset_index()"
   ]
  },
  {
   "cell_type": "code",
   "execution_count": 26,
   "id": "8f07a4a2-7b51-48e3-950b-240d99099b6c",
   "metadata": {},
   "outputs": [
    {
     "data": {
      "text/plain": [
       "<Axes: xlabel='airline', ylabel='count'>"
      ]
     },
     "execution_count": 26,
     "metadata": {},
     "output_type": "execute_result"
    },
    {
     "data": {
      "image/png": "[encoded data removed]",
      "text/plain": [
       "<Figure size 640x480 with 1 Axes>"
      ]
     },
     "metadata": {},
     "output_type": "display_data"
    }
   ],
   "source": [
    "sns.countplot(x = 'airline', data = airline_price_data)"
   ]
  },
  {
   "cell_type": "code",
   "execution_count": 27,
   "id": "9f401ffe-a7cc-4bae-89f2-c498b0e5f964",
   "metadata": {},
   "outputs": [
    {
     "data": {
      "text/plain": [
       "[{'airline': 'Vistara', 'counts': 127859},\n",
       " {'airline': 'Air_India', 'counts': 80892},\n",
       " {'airline': 'Indigo', 'counts': 43120},\n",
       " {'airline': 'GO_FIRST', 'counts': 23173},\n",
       " {'airline': 'AirAsia', 'counts': 16098},\n",
       " {'airline': 'SpiceJet', 'counts': 9011}]"
      ]
     },
     "execution_count": 27,
     "metadata": {},
     "output_type": "execute_result"
    }
   ],
   "source": [
    "airline_cust_counts = airline_price_data['airline'].value_counts() \\\n",
    "                        .rename_axis('airline').to_frame('counts') \\\n",
    "                        .reset_index().to_dict('records')\n",
    "\n",
    "airline_cust_counts"
   ]
  },
  {
   "cell_type": "code",
   "execution_count": 28,
   "id": "77674c80-25db-46a5-9638-ae23c3c9d339",
   "metadata": {},
   "outputs": [
    {
     "name": "stderr",
     "output_type": "stream",
     "text": [
      "C:\\Users\\achla\\Downloads\\ML\\dvc\\dvc_venv\\Lib\\site-packages\\dvclive\\monitor_system.py:11: FutureWarning: The pynvml package is deprecated. Please install nvidia-ml-py instead. If you did not install pynvml directly, please report this to the maintainers of the package that installed pynvml for you.\n",
      "  from pynvml import (\n"
     ]
    }
   ],
   "source": [
    "from dvclive import Live"
   ]
  },
  {
   "cell_type": "code",
   "execution_count": 29,
   "id": "d5bb2703-efe6-467a-9c0c-f60aa91d9bee",
   "metadata": {},
   "outputs": [
    {
     "name": "stderr",
     "output_type": "stream",
     "text": [
      "WARNING:dvc_studio_client:Failed to post to Studio: {\"detail\":\"Invalid token\"}\n",
      "WARNING:dvclive:`post_to_studio` `start` failed.\n",
      "WARNING:dvclive:Error in save_dvc_exp: output 'dvclive\\plots\\images' does not exist\n"
     ]
    }
   ],
   "source": [
    "from dvclive import Live\n",
    "\n",
    "with Live() as live:\n",
    "    live.log_plot(\n",
    "        'customer_count_by_airline',\n",
    "        airline_cust_counts,\n",
    "        x = 'counts',\n",
    "        y = 'airline',\n",
    "        template = 'bar_horizontal',\n",
    "        title = 'Customer Count by Airline')"
   ]
  },
  {
   "cell_type": "code",
   "execution_count": 30,
   "id": "1dc827ca-0879-4f7f-8061-6f0aa656e006",
   "metadata": {},
   "outputs": [
    {
     "name": "stdout",
     "output_type": "stream",
     "text": [
      "file:///C:/Users/achla/Downloads/ML/dvc/dvc_flights_price_prediction/dvc_plots/index.html\n"
     ]
    }
   ],
   "source": [
    "!dvc plots show"
   ]
  },
  {
   "cell_type": "code",
   "execution_count": 31,
   "id": "bbb19f2d-554c-4a6e-8bde-4bfd1c0a070d",
   "metadata": {},
   "outputs": [
    {
     "name": "stdout",
     "output_type": "stream",
     "text": [
      "file:///C:/Users/achla/Downloads/ML/dvc/dvc_flights_price_prediction/dvc_plots/index.html\n",
      "To enable auto opening, you can run:\n",
      "\n",
      "\tdvc config plots.auto_open true\n"
     ]
    }
   ],
   "source": [
    "!dvc plots show --open"
   ]
  },
  {
   "cell_type": "code",
   "execution_count": 32,
   "id": "ec772d16-f4bc-4da6-ac2b-e7fba036183d",
   "metadata": {},
   "outputs": [
    {
     "data": {
      "text/html": [
       "<div>\n",
       "<style scoped>\n",
       "    .dataframe tbody tr th:only-of-type {\n",
       "        vertical-align: middle;\n",
       "    }\n",
       "\n",
       "    .dataframe tbody tr th {\n",
       "        vertical-align: top;\n",
       "    }\n",
       "\n",
       "    .dataframe thead th {\n",
       "        text-align: right;\n",
       "    }\n",
       "</style>\n",
       "<table border=\"1\" class=\"dataframe\">\n",
       "  <thead>\n",
       "    <tr style=\"text-align: right;\">\n",
       "      <th></th>\n",
       "      <th>airline</th>\n",
       "      <th>duration</th>\n",
       "      <th>days_left</th>\n",
       "      <th>price</th>\n",
       "    </tr>\n",
       "  </thead>\n",
       "  <tbody>\n",
       "    <tr>\n",
       "      <th>0</th>\n",
       "      <td>AirAsia</td>\n",
       "      <td>8.941714</td>\n",
       "      <td>27.735184</td>\n",
       "      <td>4091.072742</td>\n",
       "    </tr>\n",
       "    <tr>\n",
       "      <th>1</th>\n",
       "      <td>Air_India</td>\n",
       "      <td>15.504235</td>\n",
       "      <td>25.497466</td>\n",
       "      <td>23507.019112</td>\n",
       "    </tr>\n",
       "    <tr>\n",
       "      <th>2</th>\n",
       "      <td>GO_FIRST</td>\n",
       "      <td>8.755380</td>\n",
       "      <td>27.430415</td>\n",
       "      <td>5652.007595</td>\n",
       "    </tr>\n",
       "    <tr>\n",
       "      <th>3</th>\n",
       "      <td>Indigo</td>\n",
       "      <td>5.795197</td>\n",
       "      <td>26.264309</td>\n",
       "      <td>5324.216303</td>\n",
       "    </tr>\n",
       "    <tr>\n",
       "      <th>4</th>\n",
       "      <td>SpiceJet</td>\n",
       "      <td>12.579767</td>\n",
       "      <td>24.122850</td>\n",
       "      <td>6179.278881</td>\n",
       "    </tr>\n",
       "    <tr>\n",
       "      <th>5</th>\n",
       "      <td>Vistara</td>\n",
       "      <td>13.326634</td>\n",
       "      <td>25.894532</td>\n",
       "      <td>30396.536302</td>\n",
       "    </tr>\n",
       "  </tbody>\n",
       "</table>\n",
       "</div>"
      ],
      "text/plain": [
       "     airline   duration  days_left         price\n",
       "0    AirAsia   8.941714  27.735184   4091.072742\n",
       "1  Air_India  15.504235  25.497466  23507.019112\n",
       "2   GO_FIRST   8.755380  27.430415   5652.007595\n",
       "3     Indigo   5.795197  26.264309   5324.216303\n",
       "4   SpiceJet  12.579767  24.122850   6179.278881\n",
       "5    Vistara  13.326634  25.894532  30396.536302"
      ]
     },
     "execution_count": 32,
     "metadata": {},
     "output_type": "execute_result"
    }
   ],
   "source": [
    "records_df = airline_price_data.groupby('airline').mean(numeric_only = True).reset_index()\n",
    "\n",
    "records_df"
   ]
  },
  {
   "cell_type": "code",
   "execution_count": 33,
   "id": "eae366e6-16c4-4881-b3ba-19279152ff29",
   "metadata": {},
   "outputs": [
    {
     "name": "stderr",
     "output_type": "stream",
     "text": [
      "WARNING:dvc_studio_client:Failed to post to Studio: {\"detail\":\"Invalid token\"}\n",
      "WARNING:dvclive:`post_to_studio` `start` failed.\n",
      "WARNING:dvclive:Error in save_dvc_exp: output 'dvclive\\plots\\images' does not exist\n"
     ]
    }
   ],
   "source": [
    "with Live() as live:\n",
    "    live.log_plot(\n",
    "        'customer_count_by_airline',\n",
    "        airline_price_data['airline'].value_counts()\n",
    "            .rename_axis('airline').to_frame('counts')\n",
    "            .reset_index().to_dict('records'),\n",
    "        x = 'counts',\n",
    "        y = 'airline',\n",
    "        template = 'bar_horizontal',\n",
    "        title = \"Customer Count by Airline\")\n",
    "    \n",
    "    live.log_plot(\n",
    "        'avg_ticket_price_by_airline',\n",
    "        airline_price_data.groupby('airline').mean(numeric_only = True)\n",
    "            .reset_index().to_dict('records'),\n",
    "        x = 'price',\n",
    "        y = 'airline',\n",
    "        template = 'bar_horizontal',\n",
    "        title =  'Average Ticket Price by Airline')\n",
    "    \n",
    "    live.log_plot(\n",
    "        'avg_ticket_price_by_class',\n",
    "        airline_price_data.groupby('class').mean(numeric_only = True)\n",
    "            .reset_index().to_dict('records'),\n",
    "        x = 'price',\n",
    "        y = 'class',\n",
    "        template = 'bar_horizontal',\n",
    "        title =  'Average Ticket Price by Class')\n",
    "    \n",
    "    live.log_plot(\n",
    "        'avg_ticket_price_by_stops',\n",
    "        airline_price_data.groupby('stops').mean(numeric_only = True)\n",
    "            .reset_index().to_dict('records'),\n",
    "        x = 'price',\n",
    "        y = 'stops',\n",
    "        template = 'bar_horizontal',\n",
    "        title =  'Average Ticket Price by Number of Stops')\n",
    "    \n",
    "    live.log_plot(\n",
    "        'duration_vs_price',\n",
    "        airline_price_data.to_dict('records'),\n",
    "        x = 'duration',\n",
    "        y = 'price',\n",
    "        template = 'scatter',\n",
    "        title =  'Duration vs. Price')\n",
    "    \n",
    "    live.log_plot(\n",
    "        'days_left_vs_price',\n",
    "        airline_price_data.to_dict('records'),\n",
    "        x = 'days_left',\n",
    "        y = 'price',\n",
    "        template = 'scatter',\n",
    "        title = 'Days Left vs. Price')"
   ]
  },
  {
   "cell_type": "code",
   "execution_count": 34,
   "id": "7dc39c0e-dd72-4d53-aeec-a65d231e7d65",
   "metadata": {},
   "outputs": [
    {
     "name": "stdout",
     "output_type": "stream",
     "text": [
      "file:///C:/Users/achla/Downloads/ML/dvc/dvc_flights_price_prediction/dvc_plots/index.html\n",
      "To enable auto opening, you can run:\n",
      "\n",
      "\tdvc config plots.auto_open true\n"
     ]
    }
   ],
   "source": [
    "!dvc plots show --open"
   ]
  },
  {
   "cell_type": "code",
   "execution_count": 35,
   "id": "fc8ca2c0-0565-4763-9386-b9593ebd05f3",
   "metadata": {},
   "outputs": [
    {
     "name": "stderr",
     "output_type": "stream",
     "text": [
      "WARNING:dvc_studio_client:Failed to post to Studio: {\"detail\":\"Invalid token\"}\n",
      "WARNING:dvclive:`post_to_studio` `start` failed.\n",
      "WARNING:dvclive:Error in save_dvc_exp: output 'dvclive\\plots\\images' does not exist\n"
     ]
    }
   ],
   "source": [
    "with Live(dir = 'scatter_plots') as live:\n",
    "\n",
    "    live.log_plot(\n",
    "        'duration_vs_price',\n",
    "        airline_price_data.groupby('duration').mean(numeric_only = True)\n",
    "            .reset_index().to_dict('records'),\n",
    "        x = 'duration',\n",
    "        y = 'price',\n",
    "        template = 'scatter',\n",
    "        title = 'Duration vs. Price')\n",
    "    \n",
    "    live.log_plot(\n",
    "        'days_left_vs_price',\n",
    "        airline_price_data.groupby('days_left').mean(numeric_only = True)\n",
    "            .reset_index().to_dict('records'),\n",
    "        x = 'days_left',\n",
    "        y = 'price',\n",
    "        template = 'scatter',\n",
    "        title = 'Days Left vs. Price')"
   ]
  },
  {
   "cell_type": "code",
   "execution_count": 36,
   "id": "a452e9f3-6fef-47e9-b467-91b574de037e",
   "metadata": {},
   "outputs": [],
   "source": [
    "airline_price_data.groupby('duration').mean(numeric_only = True) \\\n",
    "    .reset_index().to_csv('duration_vs_price.csv',index = False)"
   ]
  },
  {
   "cell_type": "markdown",
   "id": "d88954ee-72a4-4b2f-b327-065347e59b10",
   "metadata": {},
   "source": [
    "#To see a plot"
   ]
  },
  {
   "cell_type": "code",
   "execution_count": 37,
   "id": "c6280a93-d258-445c-a994-3f37ec162dc6",
   "metadata": {},
   "outputs": [
    {
     "name": "stdout",
     "output_type": "stream",
     "text": [
      "file:///C:/Users/achla/Downloads/ML/dvc/dvc_flights_price_prediction/dvc_plots/index.html\n",
      "To enable auto opening, you can run:\n",
      "\n",
      "\tdvc config plots.auto_open true\n"
     ]
    }
   ],
   "source": [
    "!dvc plots show duration_vs_price.csv --template scatter -x duration -y price --open"
   ]
  },
  {
   "cell_type": "code",
   "execution_count": 38,
   "id": "b75cd7cd-0430-432f-aa04-a626dd16072c",
   "metadata": {},
   "outputs": [
    {
     "name": "stderr",
     "output_type": "stream",
     "text": [
      "A subdirectory or file images already exists.\n"
     ]
    }
   ],
   "source": [
    "!mkdir images"
   ]
  },
  {
   "cell_type": "code",
   "execution_count": 39,
   "id": "d4ac52c3-0103-4254-86ce-8d52652aa456",
   "metadata": {},
   "outputs": [
    {
     "data": {
      "image/png": "[encoded data removed]",
      "text/plain": [
       "<Figure size 640x480 with 1 Axes>"
      ]
     },
     "metadata": {},
     "output_type": "display_data"
    }
   ],
   "source": [
    "sns.countplot(x = 'airline', data = airline_price_data)\n",
    "\n",
    "plt.savefig('images/customer_count_by_airline.png')"
   ]
  },
  {
   "cell_type": "code",
   "execution_count": 40,
   "id": "83c74b9e-0efc-4ecf-978f-57732016e094",
   "metadata": {},
   "outputs": [
    {
     "data": {
      "image/png": "[encoded data removed]",
      "text/plain": [
       "<Figure size 640x480 with 1 Axes>"
      ]
     },
     "metadata": {},
     "output_type": "display_data"
    }
   ],
   "source": [
    "sns.barplot(x = 'airline', y = 'price', data = airline_price_data)\n",
    "\n",
    "plt.savefig('images/avg_ticket_price_by_airline.png')"
   ]
  },
  {
   "cell_type": "code",
   "execution_count": 41,
   "id": "dd4a2ca4-62d3-4b23-b532-e50a2f853987",
   "metadata": {},
   "outputs": [
    {
     "data": {
      "image/png": "[encoded data removed]",
      "text/plain": [
       "<Figure size 640x480 with 1 Axes>"
      ]
     },
     "metadata": {},
     "output_type": "display_data"
    }
   ],
   "source": [
    "sns.boxplot(x = 'class', y = 'price', data = airline_price_data)\n",
    "\n",
    "plt.savefig('images/ticket_price_by_class.png')"
   ]
  },
  {
   "cell_type": "code",
   "execution_count": 42,
   "id": "9769b0d1-7516-4ac0-90fd-ad71d60ea751",
   "metadata": {},
   "outputs": [
    {
     "data": {
      "image/png": "[encoded data removed]",
      "text/plain": [
       "<Figure size 640x480 with 1 Axes>"
      ]
     },
     "metadata": {},
     "output_type": "display_data"
    }
   ],
   "source": [
    "sns.scatterplot(x = 'duration', y = 'price', \n",
    "                data = airline_price_data.groupby('duration').mean(numeric_only = True))\n",
    "\n",
    "plt.savefig('images/duration_vs_price.png')"
   ]
  },
  {
   "cell_type": "code",
   "execution_count": 43,
   "id": "f85495fb-7e13-479f-9cdd-406ce8b42610",
   "metadata": {},
   "outputs": [
    {
     "data": {
      "image/png": "[encoded data removed]",
      "text/plain": [
       "<Figure size 640x480 with 1 Axes>"
      ]
     },
     "metadata": {},
     "output_type": "display_data"
    }
   ],
   "source": [
    "sns.scatterplot(x = 'days_left', y = 'price', \n",
    "                data = airline_price_data.groupby('days_left').mean(numeric_only = True))\n",
    "\n",
    "plt.savefig('images/days_left_vs_price.png')"
   ]
  },
  {
   "cell_type": "code",
   "execution_count": 44,
   "id": "c7c9fcd3-bdc4-4244-905a-776e19e3de57",
   "metadata": {},
   "outputs": [
    {
     "name": "stderr",
     "output_type": "stream",
     "text": [
      "WARNING:dvc_studio_client:Failed to post to Studio: {\"detail\":\"Invalid token\"}\n",
      "WARNING:dvclive:`post_to_studio` `start` failed.\n",
      "WARNING: Something went wrong while auto pushing experiment to the remote 'origin': Authentication failed for: 'origin'\n",
      "See https://dvc.org/doc/user-guide/troubleshooting#git-auth\n",
      "WARNING: The following untracked files were present in the workspace before saving but will not be included in the experiment commit:\n",
      "\tDNC.ipynb, duration_vs_price.csv, Untitled.ipynb, .ipynb_checkpoints/DNC-checkpoint.ipynb, .ipynb_checkpoints/FlightsPricePrediction-checkpoint.ipynb, .ipynb_checkpoints/Untitled-checkpoint.ipynb\n"
     ]
    }
   ],
   "source": [
    "with Live() as live:   #Only logged in dvclive folder, images not cached or tracked\n",
    "    live.log_image(\"customer_count_by_airline.png\", \"images/customer_count_by_airline.png\")\n",
    "    live.log_image(\"avg_ticket_price_by_airline.png\", \"images/avg_ticket_price_by_airline.png\")\n",
    "    live.log_image(\"ticket_price_by_class.png\", \"images/ticket_price_by_class.png\")\n",
    "    live.log_image(\"duration_vs_price.png\", \"images/duration_vs_price.png\")\n",
    "    live.log_image(\"days_left_vs_price.png\", \"images/days_left_vs_price.png\")"
   ]
  },
  {
   "cell_type": "code",
   "execution_count": 45,
   "id": "d8ab2ac2-2d5f-480d-b60a-281b7dc0110f",
   "metadata": {},
   "outputs": [
    {
     "name": "stderr",
     "output_type": "stream",
     "text": [
      "WARNING:dvc_studio_client:Failed to post to Studio: {\"detail\":\"Invalid token\"}\n",
      "WARNING:dvclive:`post_to_studio` `start` failed.\n"
     ]
    },
    {
     "data": {
      "text/html": [
       "<pre style=\"white-space:pre;overflow-x:auto;line-height:normal;font-family:Menlo,'DejaVu Sans Mono',consolas,'Courier New',monospace\"></pre>\n"
      ],
      "text/plain": []
     },
     "metadata": {},
     "output_type": "display_data"
    },
    {
     "name": "stderr",
     "output_type": "stream",
     "text": [
      "WARNING: Something went wrong while auto pushing experiment to the remote 'origin': Authentication failed for: 'origin'\n",
      "See https://dvc.org/doc/user-guide/troubleshooting#git-auth\n",
      "WARNING: The following untracked files were present in the workspace before saving but will not be included in the experiment commit:\n",
      "\tDNC.ipynb, duration_vs_price.csv, Untitled.ipynb, .ipynb_checkpoints/DNC-checkpoint.ipynb, .ipynb_checkpoints/FlightsPricePrediction-checkpoint.ipynb, .ipynb_checkpoints/Untitled-checkpoint.ipynb\n"
     ]
    }
   ],
   "source": [
    "with Live(cache_images = True) as live: #Images cached in the DVC Remote storage \n",
    "\n",
    "    live.log_image(\"customer_count_by_airline.png\", \"images/customer_count_by_airline.png\")\n",
    "    live.log_image(\"avg_ticket_price_by_airline.png\", \"images/avg_ticket_price_by_airline.png\")\n",
    "    live.log_image(\"ticket_price_by_class.png\", \"images/ticket_price_by_class.png\")\n",
    "    live.log_image(\"duration_vs_price.png\", \"images/duration_vs_price.png\")\n",
    "    live.log_image(\"days_left_vs_price.png\", \"images/days_left_vs_price.png\")"
   ]
  },
  {
   "cell_type": "code",
   "execution_count": 47,
   "id": "3f184f2c-20a9-4cba-9b7b-c8492ff66f48",
   "metadata": {},
   "outputs": [
    {
     "name": "stdout",
     "output_type": "stream",
     "text": [
      "C:\\Users\\achla\\Downloads\\ML\\dvc\\dvc_flights_price_prediction\\.dvc\\cache\\files\n",
      "C:\\Users\\achla\\Downloads\\ML\\dvc\\dvc_flights_price_prediction\\.dvc\\cache\\files\\md5\n",
      "C:\\Users\\achla\\Downloads\\ML\\dvc\\dvc_flights_price_prediction\\.dvc\\cache\\files\\md5\\00\n",
      "C:\\Users\\achla\\Downloads\\ML\\dvc\\dvc_flights_price_prediction\\.dvc\\cache\\files\\md5\\0f\n",
      "C:\\Users\\achla\\Downloads\\ML\\dvc\\dvc_flights_price_prediction\\.dvc\\cache\\files\\md5\\11\n",
      "C:\\Users\\achla\\Downloads\\ML\\dvc\\dvc_flights_price_prediction\\.dvc\\cache\\files\\md5\\23\n",
      "C:\\Users\\achla\\Downloads\\ML\\dvc\\dvc_flights_price_prediction\\.dvc\\cache\\files\\md5\\3d\n",
      "C:\\Users\\achla\\Downloads\\ML\\dvc\\dvc_flights_price_prediction\\.dvc\\cache\\files\\md5\\60\n",
      "C:\\Users\\achla\\Downloads\\ML\\dvc\\dvc_flights_price_prediction\\.dvc\\cache\\files\\md5\\c2\n",
      "C:\\Users\\achla\\Downloads\\ML\\dvc\\dvc_flights_price_prediction\\.dvc\\cache\\files\\md5\\c7\n",
      "C:\\Users\\achla\\Downloads\\ML\\dvc\\dvc_flights_price_prediction\\.dvc\\cache\\files\\md5\\00\\37c8243715070f68aa2c7add1f7fdf.dir\n",
      "C:\\Users\\achla\\Downloads\\ML\\dvc\\dvc_flights_price_prediction\\.dvc\\cache\\files\\md5\\0f\\3c3be4b8631b18bedb09514952f2c1\n",
      "C:\\Users\\achla\\Downloads\\ML\\dvc\\dvc_flights_price_prediction\\.dvc\\cache\\files\\md5\\11\\35a7ab2a420fa7d3b03b611e0284ee\n",
      "C:\\Users\\achla\\Downloads\\ML\\dvc\\dvc_flights_price_prediction\\.dvc\\cache\\files\\md5\\23\\2231d394aa0e35f97d91674f7468d0\n",
      "C:\\Users\\achla\\Downloads\\ML\\dvc\\dvc_flights_price_prediction\\.dvc\\cache\\files\\md5\\3d\\63d1b6af252a78df4ed89d204bc597\n",
      "C:\\Users\\achla\\Downloads\\ML\\dvc\\dvc_flights_price_prediction\\.dvc\\cache\\files\\md5\\60\\d394506c9c8e02f49bea9a544403cb\n",
      "C:\\Users\\achla\\Downloads\\ML\\dvc\\dvc_flights_price_prediction\\.dvc\\cache\\files\\md5\\c2\\75246bffb6130a1c46add43a69b037\n",
      "C:\\Users\\achla\\Downloads\\ML\\dvc\\dvc_flights_price_prediction\\.dvc\\cache\\files\\md5\\c7\\e066fe9412d75488dd1eb42eb5fcb2\n"
     ]
    }
   ],
   "source": [
    "!dir .dvc\\cache /s /b"
   ]
  },
  {
   "cell_type": "code",
   "execution_count": 50,
   "id": "daabd66d-a398-4fe9-bc70-4f97ee9300c1",
   "metadata": {},
   "outputs": [
    {
     "name": "stdout",
     "output_type": "stream",
     "text": [
      "8 files pushed\n"
     ]
    }
   ],
   "source": [
    "#to push files to local DVC location\n",
    "!dvc push "
   ]
  },
  {
   "cell_type": "markdown",
   "id": "7b1bc28b-a03e-4ab7-afaf-05233450f665",
   "metadata": {},
   "source": [
    "### Tracking experimets with DVCLive"
   ]
  },
  {
   "cell_type": "code",
   "execution_count": 51,
   "id": "7286ebc6-5ea7-4a3c-a451-674f6dcc5f5c",
   "metadata": {},
   "outputs": [],
   "source": [
    "\n",
    "from sklearn.model_selection import train_test_split\n",
    "from sklearn.metrics import mean_absolute_error, mean_squared_error, r2_score\n",
    "\n",
    "X = airline_price_data.drop(columns = ['price', 'flight'])\n",
    "y = airline_price_data['price']\n",
    "\n",
    "X_train, X_test, y_train, y_test = train_test_split(\n",
    "    X , y, test_size = 0.3, random_state = 144)\n",
    "\n",
    "categorical_features = [\n",
    "    'airline', \n",
    "    'source_city', \n",
    "    'departure_time', \n",
    "    'arrival_time', \n",
    "    'destination_city', \n",
    "    'stops', 'class'\n",
    "]\n",
    "\n",
    "categorical_transformer = Pipeline(\n",
    "    steps = [(\n",
    "        'encoder_cat', OneHotEncoder(\n",
    "            handle_unknown = 'ignore', \n",
    "            drop = 'first', sparse_output = False)\n",
    "        )\n",
    "    ]\n",
    ")\n",
    "\n",
    "preprocessor = ColumnTransformer(\n",
    "    transformers = [(\n",
    "        'cat_tr', categorical_transformer, categorical_features\n",
    "    )], \n",
    "    remainder = StandardScaler()\n",
    ")"
   ]
  },
  {
   "cell_type": "raw",
   "id": "90afb2bc-e350-46cb-9a27-40fad02b75d6",
   "metadata": {},
   "source": [
    "### Linear regression"
   ]
  },
  {
   "cell_type": "code",
   "execution_count": 52,
   "id": "1719de75-940c-45f5-be57-ea0f0cdcdb6f",
   "metadata": {},
   "outputs": [
    {
     "name": "stdout",
     "output_type": "stream",
     "text": [
      "{'copy_X': True, 'fit_intercept': True, 'n_jobs': None, 'positive': False, 'tol': 1e-06}\n"
     ]
    }
   ],
   "source": [
    "from sklearn.linear_model import LinearRegression\n",
    "\n",
    "lr_model = LinearRegression()\n",
    "\n",
    "# Access regression parameters\n",
    "params_reg = lr_model.get_params()\n",
    "print(params_reg)\n",
    "\n",
    "pipe_lr = Pipeline(steps = [('preprocessor', preprocessor), ('regressor', lr_model)])\n",
    "\n",
    "pipe_lr.fit(X_train, y_train)\n",
    "\n",
    "y_pred = pipe_lr.predict(X_test)\n",
    "    \n",
    "training_score = pipe_lr.score(X_train, y_train)\n",
    "mean_abs_error = mean_absolute_error(y_test, y_pred)\n",
    "root_mean_sq_error = mean_squared_error(y_test, y_pred)\n",
    "r_sq_score = r2_score(y_test, y_pred)"
   ]
  },
  {
   "cell_type": "code",
   "execution_count": 60,
   "id": "35b1d6c6-1e08-44a8-bb96-94ad7a704e94",
   "metadata": {},
   "outputs": [
    {
     "data": {
      "text/html": [
       "<pre style=\"white-space:pre;overflow-x:auto;line-height:normal;font-family:Menlo,'DejaVu Sans Mono',consolas,'Courier New',monospace\"></pre>\n"
      ],
      "text/plain": []
     },
     "metadata": {},
     "output_type": "display_data"
    },
    {
     "name": "stderr",
     "output_type": "stream",
     "text": [
      "WARNING: Something went wrong while auto pushing experiment to the remote 'origin': Authentication failed for: 'origin'\n",
      "See https://dvc.org/doc/user-guide/troubleshooting#git-auth\n",
      "WARNING: The following untracked files were present in the workspace before saving but will not be included in the experiment commit:\n",
      "\tDNC.ipynb, duration_vs_price.csv, Untitled.ipynb, .ipynb_checkpoints/DNC-checkpoint.ipynb, .ipynb_checkpoints/FlightsPricePrediction-checkpoint.ipynb, .ipynb_checkpoints/Untitled-checkpoint.ipynb\n"
     ]
    }
   ],
   "source": [
    "with Live(\n",
    "    dir = 'linear_regression', \n",
    "    save_dvc_exp = True, \n",
    "    exp_message = 'Flights price prediction with linear regression'\n",
    ") as live:\n",
    "    \n",
    "    live.log_artifact(\n",
    "        'data/airline_price_data.csv',\n",
    "        type = 'dataset',\n",
    "        name = 'flightprices',\n",
    "        desc = 'Flights price prediction dataset',\n",
    "        labels = ['regression', 'prices'],\n",
    "    )\n",
    "    \n",
    "    for param_name, param_value in params_reg.items():\n",
    "        live.log_param(param_name, param_value)\n",
    "\n",
    "    live.log_metric('training_r2_score', training_score)   \n",
    "    live.log_metric('mae', mean_abs_error)\n",
    "    live.log_metric('rmse', root_mean_sq_error)\n",
    "    live.log_metric('r2_score', r_sq_score)"
   ]
  },
  {
   "cell_type": "code",
   "execution_count": 62,
   "id": "dc5f962c-735a-4cdc-91d1-9058b3b07231",
   "metadata": {},
   "outputs": [
    {
     "name": "stdout",
     "output_type": "stream",
     "text": [
      "main:\n",
      "\t4a5e382 [chirk-whit]\n",
      "\te447548 [dread-foil]\n",
      "\t2f49c00 [mardy-aura]\n",
      "\t8a11f65 [potty-suer]\n"
     ]
    }
   ],
   "source": [
    "!dvc exp list"
   ]
  },
  {
   "cell_type": "code",
   "execution_count": 63,
   "id": "7be17362-b512-46a5-9a04-81fddd54c939",
   "metadata": {},
   "outputs": [
    {
     "name": "stdout",
     "output_type": "stream",
     "text": [
      "+--------------------------------------------------------------------------------------------------------------------------------------------------------------------------------------------------------------------------------------------------------------------------------------------------------------------------------------------------------------------------------------------------------------------------------------------------------------------------------------------------------------------------------------------------------------------------------------------------------------------------------------------------------------------------------------------------------------------------------------------------------------------------------------------------------------------------------------------------------------------------------------------------------------------------------------------------------------------------------------------------------------------------------------------------------+\n",
      "| Experiment               | Created  | knn_regression\\metrics.json:training_r2_score | knn_regression\\metrics.json:mae | knn_regression\\metrics.json:rmse | knn_regression\\metrics.json:r2_score | rf_regression\\metrics.json:training_r2_score | rf_regression\\metrics.json:mae | rf_regression\\metrics.json:rmse | rf_regression\\metrics.json:r2_score | linear_regression\\metrics.json:training_r2_score | linear_regression\\metrics.json:mae | linear_regression\\metrics.json:rmse | linear_regression\\metrics.json:r2_score | algorithm | leaf_size | metric    | metric_params | knn_regression\\params.yaml:n_jobs | n_neighbors | p | weights | bootstrap | ccp_alpha | criterion     | max_depth | max_features | max_leaf_nodes | max_samples | min_impurity_decrease | min_samples_leaf | min_samples_split | min_weight_fraction_leaf | monotonic_cst | n_estimators | rf_regression\\params.yaml:n_jobs | oob_score | random_state | verbose | warm_start | copy_X | fit_intercept | linear_regression\\params.yaml:n_jobs | positive | tol   |\n",
      "|--------------------------+----------+-----------------------------------------------+---------------------------------+----------------------------------+--------------------------------------+----------------------------------------------+--------------------------------+---------------------------------+-------------------------------------+--------------------------------------------------+------------------------------------+-------------------------------------+-----------------------------------------+-----------+-----------+-----------+---------------+-----------------------------------+-------------+---+---------+-----------+-----------+---------------+-----------+--------------+----------------+-------------+-----------------------+------------------+-------------------+--------------------------+---------------+--------------+----------------------------------+-----------+--------------+---------+------------+--------+---------------+--------------------------------------+----------+-------|\n",
      "| workspace                | -        |                                       0.98074 |                          1889.4 |                       1.5241e+07 |                              0.97041 |                                      0.99747 |                         1105.4 |                      7.7337e+06 |                             0.98499 |                                          0.91127 |                               4556 |                          4.5388e+07 |                                 0.91188 | auto      | 30        | minkowski | -             | -                                 | 5           | 2 | uniform | True      | 0         | squared_error | -         | 1            | -              | -           | 0                     | 1                | 2                 | 0                        | -             | 100          | -                                | False     | -            | 0       | False      | True   | True          | -                                    | False    | 1e-06 |\n",
      "| main                     | 02:51 PM |                                       0.98074 |                          1889.4 |                       1.5241e+07 |                              0.97041 |                                      0.99747 |                         1105.4 |                      7.7337e+06 |                             0.98499 |                                          0.91127 |                               4556 |                          4.5388e+07 |                                 0.91188 | auto      | 30        | minkowski | -             | -                                 | 5           | 2 | uniform | True      | 0         | squared_error | -         | 1            | -              | -           | 0                     | 1                | 2                 | 0                        | -             | 100          | -                                | False     | -            | 0       | False      | True   | True          | -                                    | False    | 1e-06 |\n",
      "| \\u251c\\u2500\\u2500 e447548 [dread-foil] | 04:48 PM |                                       0.98074 |                          1889.4 |                       1.5241e+07 |                              0.97041 |                                      0.99747 |                         1105.4 |                      7.7337e+06 |                             0.98499 |                                          0.91127 |                               4556 |                          4.5388e+07 |                                 0.91188 | auto      | 30        | minkowski | -             | -                                 | 5           | 2 | uniform | True      | 0         | squared_error | -         | 1            | -              | -           | 0                     | 1                | 2                 | 0                        | -             | 100          | -                                | False     | -            | 0       | False      | True   | True          | -                                    | False    | 1e-06 |\n",
      "| \\u251c\\u2500\\u2500 8a11f65 [potty-suer] | 04:34 PM |                                       0.98074 |                          1889.4 |                       1.5241e+07 |                              0.97041 |                                      0.99747 |                         1105.4 |                      7.7337e+06 |                             0.98499 |                                          0.91127 |                               4556 |                          4.5388e+07 |                                 0.91188 | auto      | 30        | minkowski | -             | -                                 | 5           | 2 | uniform | True      | 0         | squared_error | -         | 1            | -              | -           | 0                     | 1                | 2                 | 0                        | -             | 100          | -                                | False     | -            | 0       | False      | True   | True          | -                                    | False    | 1e-06 |\n",
      "| \\u251c\\u2500\\u2500 4a5e382 [chirk-whit] | 03:43 PM |                                       0.98074 |                          1889.4 |                       1.5241e+07 |                              0.97041 |                                      0.99747 |                         1105.4 |                      7.7337e+06 |                             0.98499 |                                          0.91127 |                               4556 |                          4.5388e+07 |                                 0.91188 | auto      | 30        | minkowski | -             | -                                 | 5           | 2 | uniform | True      | 0         | squared_error | -         | 1            | -              | -           | 0                     | 1                | 2                 | 0                        | -             | 100          | -                                | False     | -            | 0       | False      | True   | True          | -                                    | False    | 1e-06 |\n",
      "| \\u2514\\u2500\\u2500 2f49c00 [mardy-aura] | 03:40 PM |                                       0.98074 |                          1889.4 |                       1.5241e+07 |                              0.97041 |                                      0.99747 |                         1105.4 |                      7.7337e+06 |                             0.98499 |                                          0.91127 |                               4556 |                          4.5388e+07 |                                 0.91188 | auto      | 30        | minkowski | -             | -                                 | 5           | 2 | uniform | True      | 0         | squared_error | -         | 1            | -              | -           | 0                     | 1                | 2                 | 0                        | -             | 100          | -                                | False     | -            | 0       | False      | True   | True          | -                                    | False    | 1e-06 |\n",
      "+--------------------------------------------------------------------------------------------------------------------------------------------------------------------------------------------------------------------------------------------------------------------------------------------------------------------------------------------------------------------------------------------------------------------------------------------------------------------------------------------------------------------------------------------------------------------------------------------------------------------------------------------------------------------------------------------------------------------------------------------------------------------------------------------------------------------------------------------------------------------------------------------------------------------------------------------------------------------------------------------------------------------------------------------------------+\n"
     ]
    }
   ],
   "source": [
    "!dvc exp show"
   ]
  },
  {
   "cell_type": "code",
   "execution_count": 64,
   "id": "0f5066bc-a292-4ae7-9db7-d46d6deab086",
   "metadata": {},
   "outputs": [
    {
     "name": "stdout",
     "output_type": "stream",
     "text": [
      "On branch main\n",
      "Your branch is up to date with 'origin/main'.\n",
      "\n",
      "Changes not staged for commit:\n",
      "  (use \"git add <file>...\" to update what will be committed)\n",
      "  (use \"git restore <file>...\" to discard changes in working directory)\n",
      "\tmodified:   FlightsPricePrediction.ipynb\n",
      "\tmodified:   dvc.yaml\n",
      "\tmodified:   dvc_plots/index.html\n",
      "\tmodified:   dvclive/plots/images.dvc\n",
      "\tmodified:   images/avg_ticket_price_by_airline.png\n",
      "\n",
      "Untracked files:\n",
      "  (use \"git add <file>...\" to include in what will be committed)\n",
      "\t.ipynb_checkpoints/\n",
      "\tDNC.ipynb\n",
      "\tUntitled.ipynb\n",
      "\tduration_vs_price.csv\n",
      "\n",
      "no changes added to commit (use \"git add\" and/or \"git commit -a\")\n"
     ]
    }
   ],
   "source": [
    "!git status"
   ]
  },
  {
   "cell_type": "markdown",
   "id": "c5f0e297-3f3c-45a5-a141-72110cdbd673",
   "metadata": {},
   "source": [
    "### FROM CMD !dvc exp push origin dread-foil"
   ]
  },
  {
   "cell_type": "code",
   "execution_count": 66,
   "id": "9513cfce-90fd-4b02-932c-e98d0a5e158b",
   "metadata": {},
   "outputs": [],
   "source": [
    "!git add data/"
   ]
  },
  {
   "cell_type": "code",
   "execution_count": 67,
   "id": "aa68242e-4ace-41a4-a7f3-a77fd3607ae4",
   "metadata": {},
   "outputs": [],
   "source": [
    "!git add linear_regression/"
   ]
  },
  {
   "cell_type": "code",
   "execution_count": 69,
   "id": "34a8fcbe-147f-4329-ac27-2b4cc96e3e55",
   "metadata": {},
   "outputs": [
    {
     "name": "stdout",
     "output_type": "stream",
     "text": [
      "On branch main\n",
      "Your branch is up to date with 'origin/main'.\n",
      "\n",
      "Changes not staged for commit:\n",
      "  (use \"git add <file>...\" to update what will be committed)\n",
      "  (use \"git restore <file>...\" to discard changes in working directory)\n",
      "\tmodified:   FlightsPricePrediction.ipynb\n",
      "\tmodified:   dvc.yaml\n",
      "\tmodified:   dvc_plots/index.html\n",
      "\tmodified:   dvclive/plots/images.dvc\n",
      "\tmodified:   images/avg_ticket_price_by_airline.png\n",
      "\n",
      "Untracked files:\n",
      "  (use \"git add <file>...\" to include in what will be committed)\n",
      "\t.ipynb_checkpoints/\n",
      "\tDNC.ipynb\n",
      "\tUntitled.ipynb\n",
      "\tc\n",
      "\tc.pub\n",
      "\tduration_vs_price.csv\n",
      "\n",
      "no changes added to commit (use \"git add\" and/or \"git commit -a\")\n"
     ]
    }
   ],
   "source": [
    "!git commit -m \"LR Experiment with DVC Studio Working\""
   ]
  },
  {
   "cell_type": "code",
   "execution_count": 70,
   "id": "a32b903d-fe30-466c-a34c-e93816378d27",
   "metadata": {},
   "outputs": [
    {
     "name": "stdout",
     "output_type": "stream",
     "text": [
      "On branch main\n",
      "Your branch is up to date with 'origin/main'.\n",
      "\n",
      "Changes not staged for commit:\n",
      "  (use \"git add <file>...\" to update what will be committed)\n",
      "  (use \"git restore <file>...\" to discard changes in working directory)\n",
      "\tmodified:   FlightsPricePrediction.ipynb\n",
      "\tmodified:   dvc.yaml\n",
      "\tmodified:   dvc_plots/index.html\n",
      "\tmodified:   dvclive/plots/images.dvc\n",
      "\tmodified:   images/avg_ticket_price_by_airline.png\n",
      "\n",
      "Untracked files:\n",
      "  (use \"git add <file>...\" to include in what will be committed)\n",
      "\t.ipynb_checkpoints/\n",
      "\tDNC.ipynb\n",
      "\tUntitled.ipynb\n",
      "\tc\n",
      "\tc.pub\n",
      "\tduration_vs_price.csv\n",
      "\n",
      "no changes added to commit (use \"git add\" and/or \"git commit -a\")\n"
     ]
    }
   ],
   "source": [
    "!git status"
   ]
  },
  {
   "cell_type": "code",
   "execution_count": 71,
   "id": "8b3b8f12-3db8-446c-a1cb-45cce6483441",
   "metadata": {},
   "outputs": [
    {
     "name": "stderr",
     "output_type": "stream",
     "text": [
      "Host key verification failed.\n",
      "fatal: Could not read from remote repository.\n",
      "\n",
      "Please make sure you have the correct access rights\n",
      "and the repository exists.\n"
     ]
    }
   ],
   "source": [
    "!git push -u origin main"
   ]
  },
  {
   "cell_type": "code",
   "execution_count": 72,
   "id": "5b6bd544-77eb-4018-9114-052c57275a90",
   "metadata": {},
   "outputs": [
    {
     "name": "stdout",
     "output_type": "stream",
     "text": [
      "Updating a8367ca..f2eb1f9"
     ]
    },
    {
     "name": "stderr",
     "output_type": "stream",
     "text": [
      "From github.com:amsha16/dvc_flights_price_prediction\n"
     ]
    },
    {
     "name": "stdout",
     "output_type": "stream",
     "text": [
      "\n"
     ]
    },
    {
     "name": "stderr",
     "output_type": "stream",
     "text": [
      "   a8367ca..f2eb1f9  main              -> origin/main\n",
      " * [new branch]      dread-foil-branch -> origin/dread-foil-branch\n",
      "error: Your local changes to the following files would be overwritten by merge:\n",
      "\tFlightsPricePrediction.ipynb\n",
      "\tdvc.yaml\n",
      "\tdvc_plots/index.html\n",
      "\tdvclive/plots/images.dvc\n",
      "\timages/avg_ticket_price_by_airline.png\n",
      "Please commit your changes or stash them before you merge.\n",
      "Aborting\n"
     ]
    }
   ],
   "source": [
    "!git pull"
   ]
  },
  {
   "cell_type": "code",
   "execution_count": 73,
   "id": "2309cdd8-0f35-4ebd-a319-6a3b39f8deb8",
   "metadata": {},
   "outputs": [
    {
     "name": "stdout",
     "output_type": "stream",
     "text": [
      "On branch main\n",
      "Your branch is behind 'origin/main' by 2 commits, and can be fast-forwarded.\n",
      "  (use \"git pull\" to update your local branch)\n",
      "\n",
      "Changes not staged for commit:\n",
      "  (use \"git add <file>...\" to update what will be committed)\n",
      "  (use \"git restore <file>...\" to discard changes in working directory)\n",
      "\tmodified:   FlightsPricePrediction.ipynb\n",
      "\tmodified:   dvc.yaml\n",
      "\tmodified:   dvc_plots/index.html\n",
      "\tmodified:   dvclive/plots/images.dvc\n",
      "\tmodified:   images/avg_ticket_price_by_airline.png\n",
      "\n",
      "Untracked files:\n",
      "  (use \"git add <file>...\" to include in what will be committed)\n",
      "\t.ipynb_checkpoints/\n",
      "\tDNC.ipynb\n",
      "\tUntitled.ipynb\n",
      "\tc\n",
      "\tc.pub\n",
      "\tduration_vs_price.csv\n",
      "\n",
      "no changes added to commit (use \"git add\" and/or \"git commit -a\")\n"
     ]
    }
   ],
   "source": [
    "!git add data/\n",
    "!git add linear_regression/\n",
    "!git status"
   ]
  },
  {
   "cell_type": "markdown",
   "id": "2e3f8557-b876-4a3d-9be5-d6fbd34fe71a",
   "metadata": {},
   "source": [
    "!git pull"
   ]
  },
  {
   "cell_type": "markdown",
   "id": "7726c116-6c9f-4ab5-bc46-1bb1f6504f96",
   "metadata": {},
   "source": [
    "### KNN"
   ]
  },
  {
   "cell_type": "code",
   "execution_count": 74,
   "id": "b45406c2-278a-4807-868b-6259b6172961",
   "metadata": {},
   "outputs": [
    {
     "name": "stdout",
     "output_type": "stream",
     "text": [
      "{'algorithm': 'auto', 'leaf_size': 30, 'metric': 'minkowski', 'metric_params': None, 'n_jobs': None, 'n_neighbors': 5, 'p': 2, 'weights': 'uniform'}\n"
     ]
    },
    {
     "name": "stderr",
     "output_type": "stream",
     "text": [
      "WARNING: The following untracked files were present in the workspace before saving but will not be included in the experiment commit:\n",
      "\tc, c.pub, DNC.ipynb, duration_vs_price.csv, Untitled.ipynb, .ipynb_checkpoints/DNC-checkpoint.ipynb, .ipynb_checkpoints/FlightsPricePrediction-checkpoint.ipynb, .ipynb_checkpoints/Untitled-checkpoint.ipynb\n"
     ]
    }
   ],
   "source": [
    "from sklearn.neighbors import KNeighborsRegressor\n",
    "\n",
    "knn_model = KNeighborsRegressor()\n",
    "\n",
    "params_reg = knn_model.get_params()\n",
    "print(params_reg)\n",
    "\n",
    "pipe_knn = Pipeline(steps = [('preprocessor', preprocessor), ('regressor', knn_model)])\n",
    "\n",
    "pipe_knn.fit(X_train, y_train)\n",
    "\n",
    "y_pred = pipe_knn.predict(X_test)\n",
    "    \n",
    "training_score = pipe_knn.score(X_train, y_train)\n",
    "mean_abs_error = mean_absolute_error(y_test, y_pred)\n",
    "root_mean_sq_error = mean_squared_error(y_test, y_pred)\n",
    "r_sq_score = r2_score(y_test, y_pred)\n",
    "\n",
    "with Live(\n",
    "    dir = 'knn_regression', \n",
    "    save_dvc_exp = True, \n",
    "    exp_message = 'Flights price prediction with KNN regression'\n",
    ") as live:\n",
    "\n",
    "    for param_name, param_value in params_reg.items():\n",
    "        live.log_param(param_name, param_value)\n",
    "        \n",
    "    live.log_metric('training_r2_score', training_score)   \n",
    "    live.log_metric('mae', mean_abs_error)\n",
    "    live.log_metric('rmse', root_mean_sq_error)\n",
    "    live.log_metric('r2_score', r_sq_score)"
   ]
  },
  {
   "cell_type": "markdown",
   "id": "eecedff1-f014-4aa2-8aa4-99e87fa62a72",
   "metadata": {},
   "source": [
    " From command prompt dvc exp push origin -A"
   ]
  },
  {
   "cell_type": "code",
   "execution_count": 75,
   "id": "f082ddb1-9177-461e-925e-73dc4d70ac43",
   "metadata": {},
   "outputs": [
    {
     "name": "stdout",
     "output_type": "stream",
     "text": [
      "{'bootstrap': True, 'ccp_alpha': 0.0, 'criterion': 'squared_error', 'max_depth': None, 'max_features': 1.0, 'max_leaf_nodes': None, 'max_samples': None, 'min_impurity_decrease': 0.0, 'min_samples_leaf': 1, 'min_samples_split': 2, 'min_weight_fraction_leaf': 0.0, 'monotonic_cst': None, 'n_estimators': 100, 'n_jobs': None, 'oob_score': False, 'random_state': None, 'verbose': 0, 'warm_start': False}\n"
     ]
    },
    {
     "data": {
      "text/html": [
       "<pre style=\"white-space:pre;overflow-x:auto;line-height:normal;font-family:Menlo,'DejaVu Sans Mono',consolas,'Courier New',monospace\"></pre>\n"
      ],
      "text/plain": []
     },
     "metadata": {},
     "output_type": "display_data"
    },
    {
     "data": {
      "text/html": [
       "<pre style=\"white-space:pre;overflow-x:auto;line-height:normal;font-family:Menlo,'DejaVu Sans Mono',consolas,'Courier New',monospace\"></pre>\n"
      ],
      "text/plain": []
     },
     "metadata": {},
     "output_type": "display_data"
    },
    {
     "name": "stderr",
     "output_type": "stream",
     "text": [
      "WARNING: The following untracked files were present in the workspace before saving but will not be included in the experiment commit:\n",
      "\tc, c.pub, DNC.ipynb, duration_vs_price.csv, Untitled.ipynb, .ipynb_checkpoints/DNC-checkpoint.ipynb, .ipynb_checkpoints/FlightsPricePrediction-checkpoint.ipynb, .ipynb_checkpoints/Untitled-checkpoint.ipynb\n"
     ]
    }
   ],
   "source": [
    "import os\n",
    "from joblib import dump\n",
    "\n",
    "from sklearn.ensemble import RandomForestRegressor\n",
    "\n",
    "rf_model = RandomForestRegressor()\n",
    "params_reg = rf_model.get_params()\n",
    "print(params_reg)\n",
    "\n",
    "pipe_rf = Pipeline(steps = [('preprocessor', preprocessor), ('regressor', rf_model)])\n",
    "\n",
    "pipe_rf.fit(X_train, y_train)\n",
    "\n",
    "y_pred = pipe_rf.predict(X_test)\n",
    "    \n",
    "training_score = pipe_rf.score(X_train, y_train)\n",
    "mean_abs_error = mean_absolute_error(y_test, y_pred)\n",
    "root_mean_sq_error = mean_squared_error(y_test, y_pred)\n",
    "r_sq_score = r2_score(y_test, y_pred)\n",
    "\n",
    "# Create a path where we store the serialized model\n",
    "os.makedirs('model_dir', exist_ok = True)\n",
    "model_path = os.path.join('model_dir', 'flight-price-prediction.joblib')\n",
    "\n",
    "# Store the model in this directory\n",
    "dump(pipe_rf, model_path)\n",
    "\n",
    "\n",
    "with Live(\n",
    "    dir = 'rf_regression', \n",
    "    save_dvc_exp = True, \n",
    "    exp_message = 'Flights price prediction with Random Forest regression'\n",
    ") as live:\n",
    "    \n",
    "    live.log_artifact(\n",
    "        'data/airline_price_data.csv',\n",
    "        type = 'dataset',\n",
    "        name = 'flightprices',\n",
    "        desc = 'Flights price prediction dataset',\n",
    "        labels = ['regression', 'prices'],\n",
    "    )\n",
    "    \n",
    "    for param_name, param_value in params_reg.items():\n",
    "        live.log_param(param_name, param_value)\n",
    "    \n",
    "    live.log_plot(\n",
    "        'predicted_vs_actual_price',\n",
    "        pd.DataFrame({'predicted': y_pred, 'actual': y_test}).to_dict('records'),\n",
    "        x = 'actual',\n",
    "        y = 'predicted',\n",
    "        template = 'scatter',\n",
    "        title =  'Predicted price vs. Actual price')\n",
    "    \n",
    "    live.log_metric('training_r2_score', training_score)   \n",
    "    live.log_metric('mae', mean_abs_error)\n",
    "    live.log_metric('rmse', root_mean_sq_error)\n",
    "    live.log_metric('r2_score', r_sq_score)\n",
    "    \n",
    "    live.log_artifact(model_path, type = 'model')"
   ]
  },
  {
   "cell_type": "code",
   "execution_count": 76,
   "id": "3dc803d5-75f8-44cb-b6d1-a9704fbbd647",
   "metadata": {},
   "outputs": [],
   "source": [
    "pd.DataFrame({'predicted': y_pred, 'actual': y_test})\\\n",
    "    .to_csv('predicted_vs_actual_price.csv', index = False)"
   ]
  },
  {
   "cell_type": "code",
   "execution_count": 77,
   "id": "a7897f13-773b-44a5-b88d-d72b185b9048",
   "metadata": {},
   "outputs": [
    {
     "name": "stdout",
     "output_type": "stream",
     "text": [
      "file:///C:/Users/achla/Downloads/ML/dvc/dvc_flights_price_prediction/dvc_plots/index.html\n",
      "To enable auto opening, you can run:\n",
      "\n",
      "\tdvc config plots.auto_open true\n"
     ]
    }
   ],
   "source": [
    "!dvc plots show predicted_vs_actual_price.csv --template scatter -x actual -y predicted --open"
   ]
  },
  {
   "cell_type": "code",
   "execution_count": 78,
   "id": "09b49614-ee60-46d2-8834-df541fbde3e6",
   "metadata": {},
   "outputs": [],
   "source": [
    "!dvc config plots.auto_open true"
   ]
  },
  {
   "cell_type": "code",
   "execution_count": 79,
   "id": "c740d3fe-9013-48c2-98b4-db0ded0088d0",
   "metadata": {},
   "outputs": [
    {
     "name": "stdout",
     "output_type": "stream",
     "text": [
      "+--------------------------------------------------------------------------------------------------------------------------------------------------------------------------------------------------------------------------------------------------------------------------------------------------------------------------------------------------------------------------------------------------------------------------------------------------------------------------------------------------------------------------------------------------------------------------------------------------------------------------------------------------------------------------------------------------------------------------------------------------------------------------------------------------------------------------------------------------------------------------------------------------------------------------------------------------------------------------------------------------------------------------------------------------------+\n",
      "| Experiment               | Created  | linear_regression\\metrics.json:training_r2_score | linear_regression\\metrics.json:mae | linear_regression\\metrics.json:rmse | linear_regression\\metrics.json:r2_score | knn_regression\\metrics.json:training_r2_score | knn_regression\\metrics.json:mae | knn_regression\\metrics.json:rmse | knn_regression\\metrics.json:r2_score | rf_regression\\metrics.json:training_r2_score | rf_regression\\metrics.json:mae | rf_regression\\metrics.json:rmse | rf_regression\\metrics.json:r2_score | copy_X | fit_intercept | linear_regression\\params.yaml:n_jobs | positive | tol   | algorithm | leaf_size | metric    | metric_params | knn_regression\\params.yaml:n_jobs | n_neighbors | p | weights | bootstrap | ccp_alpha | criterion     | max_depth | max_features | max_leaf_nodes | max_samples | min_impurity_decrease | min_samples_leaf | min_samples_split | min_weight_fraction_leaf | monotonic_cst | n_estimators | rf_regression\\params.yaml:n_jobs | oob_score | random_state | verbose | warm_start |\n",
      "|--------------------------+----------+--------------------------------------------------+------------------------------------+-------------------------------------+-----------------------------------------+-----------------------------------------------+---------------------------------+----------------------------------+--------------------------------------+----------------------------------------------+--------------------------------+---------------------------------+-------------------------------------+--------+---------------+--------------------------------------+----------+-------+-----------+-----------+-----------+---------------+-----------------------------------+-------------+---+---------+-----------+-----------+---------------+-----------+--------------+----------------+-------------+-----------------------+------------------+-------------------+--------------------------+---------------+--------------+----------------------------------+-----------+--------------+---------+------------|\n",
      "| workspace                | -        |                                          0.91127 |                               4556 |                          4.5388e+07 |                                 0.91188 |                                       0.98074 |                          1889.4 |                       1.5241e+07 |                              0.97041 |                                      0.99746 |                         1104.6 |                      7.7293e+06 |                             0.98499 | True   | True          | -                                    | False    | 1e-06 | auto      | 30        | minkowski | -             | -                                 | 5           | 2 | uniform | True      | 0         | squared_error | -         | 1            | -              | -           | 0                     | 1                | 2                 | 0                        | -             | 100          | -                                | False     | -            | 0       | False      |\n",
      "| main                     | 02:51 PM |                                          0.91127 |                               4556 |                          4.5388e+07 |                                 0.91188 |                                       0.98074 |                          1889.4 |                       1.5241e+07 |                              0.97041 |                                      0.99747 |                         1105.4 |                      7.7337e+06 |                             0.98499 | True   | True          | -                                    | False    | 1e-06 | auto      | 30        | minkowski | -             | -                                 | 5           | 2 | uniform | True      | 0         | squared_error | -         | 1            | -              | -           | 0                     | 1                | 2                 | 0                        | -             | 100          | -                                | False     | -            | 0       | False      |\n",
      "| \\u251c\\u2500\\u2500 558eb3b [known-gude] | 06:52 PM |                                          0.91127 |                               4556 |                          4.5388e+07 |                                 0.91188 |                                       0.98074 |                          1889.4 |                       1.5241e+07 |                              0.97041 |                                      0.99746 |                         1104.6 |                      7.7293e+06 |                             0.98499 | True   | True          | -                                    | False    | 1e-06 | auto      | 30        | minkowski | -             | -                                 | 5           | 2 | uniform | True      | 0         | squared_error | -         | 1            | -              | -           | 0                     | 1                | 2                 | 0                        | -             | 100          | -                                | False     | -            | 0       | False      |\n",
      "| \\u251c\\u2500\\u2500 7339b68 [after-leas] | 06:48 PM |                                          0.91127 |                               4556 |                          4.5388e+07 |                                 0.91188 |                                       0.98074 |                          1889.4 |                       1.5241e+07 |                              0.97041 |                                      0.99747 |                         1105.4 |                      7.7337e+06 |                             0.98499 | True   | True          | -                                    | False    | 1e-06 | auto      | 30        | minkowski | -             | -                                 | 5           | 2 | uniform | True      | 0         | squared_error | -         | 1            | -              | -           | 0                     | 1                | 2                 | 0                        | -             | 100          | -                                | False     | -            | 0       | False      |\n",
      "| \\u251c\\u2500\\u2500 e447548 [dread-foil] | 04:48 PM |                                          0.91127 |                               4556 |                          4.5388e+07 |                                 0.91188 |                                       0.98074 |                          1889.4 |                       1.5241e+07 |                              0.97041 |                                      0.99747 |                         1105.4 |                      7.7337e+06 |                             0.98499 | True   | True          | -                                    | False    | 1e-06 | auto      | 30        | minkowski | -             | -                                 | 5           | 2 | uniform | True      | 0         | squared_error | -         | 1            | -              | -           | 0                     | 1                | 2                 | 0                        | -             | 100          | -                                | False     | -            | 0       | False      |\n",
      "| \\u251c\\u2500\\u2500 8a11f65 [potty-suer] | 04:34 PM |                                          0.91127 |                               4556 |                          4.5388e+07 |                                 0.91188 |                                       0.98074 |                          1889.4 |                       1.5241e+07 |                              0.97041 |                                      0.99747 |                         1105.4 |                      7.7337e+06 |                             0.98499 | True   | True          | -                                    | False    | 1e-06 | auto      | 30        | minkowski | -             | -                                 | 5           | 2 | uniform | True      | 0         | squared_error | -         | 1            | -              | -           | 0                     | 1                | 2                 | 0                        | -             | 100          | -                                | False     | -            | 0       | False      |\n",
      "| \\u251c\\u2500\\u2500 4a5e382 [chirk-whit] | 03:43 PM |                                          0.91127 |                               4556 |                          4.5388e+07 |                                 0.91188 |                                       0.98074 |                          1889.4 |                       1.5241e+07 |                              0.97041 |                                      0.99747 |                         1105.4 |                      7.7337e+06 |                             0.98499 | True   | True          | -                                    | False    | 1e-06 | auto      | 30        | minkowski | -             | -                                 | 5           | 2 | uniform | True      | 0         | squared_error | -         | 1            | -              | -           | 0                     | 1                | 2                 | 0                        | -             | 100          | -                                | False     | -            | 0       | False      |\n",
      "| \\u2514\\u2500\\u2500 2f49c00 [mardy-aura] | 03:40 PM |                                          0.91127 |                               4556 |                          4.5388e+07 |                                 0.91188 |                                       0.98074 |                          1889.4 |                       1.5241e+07 |                              0.97041 |                                      0.99747 |                         1105.4 |                      7.7337e+06 |                             0.98499 | True   | True          | -                                    | False    | 1e-06 | auto      | 30        | minkowski | -             | -                                 | 5           | 2 | uniform | True      | 0         | squared_error | -         | 1            | -              | -           | 0                     | 1                | 2                 | 0                        | -             | 100          | -                                | False     | -            | 0       | False      |\n",
      "+--------------------------------------------------------------------------------------------------------------------------------------------------------------------------------------------------------------------------------------------------------------------------------------------------------------------------------------------------------------------------------------------------------------------------------------------------------------------------------------------------------------------------------------------------------------------------------------------------------------------------------------------------------------------------------------------------------------------------------------------------------------------------------------------------------------------------------------------------------------------------------------------------------------------------------------------------------------------------------------------------------------------------------------------------------+\n"
     ]
    }
   ],
   "source": [
    "!dvc exp show"
   ]
  },
  {
   "cell_type": "code",
   "execution_count": 95,
   "id": "a0c96ef6-1b93-42a2-9a47-d3b32b21da70",
   "metadata": {},
   "outputs": [
    {
     "name": "stderr",
     "output_type": "stream",
     "text": [
      "ERROR: Authentication failed for: 'origin'\n",
      "See https://dvc.org/doc/user-guide/troubleshooting#git-auth\n"
     ]
    }
   ],
   "source": [
    "!dvc exp push origin brown-wide # push from cmooand prompt"
   ]
  },
  {
   "cell_type": "code",
   "execution_count": 97,
   "id": "9507b352-4292-47cd-aed1-6f153d75d9e5",
   "metadata": {},
   "outputs": [
    {
     "name": "stdout",
     "output_type": "stream",
     "text": [
      "Already up to date.\n"
     ]
    }
   ],
   "source": [
    "!git pull"
   ]
  },
  {
   "cell_type": "code",
   "execution_count": 100,
   "id": "0371e7cb-8c8c-44e4-aedc-58edc00873fe",
   "metadata": {},
   "outputs": [
    {
     "name": "stdout",
     "output_type": "stream",
     "text": [
      " Volume in drive C is Windows\n",
      " Volume Serial Number is 46F2-08F7\n",
      "\n",
      " Directory of C:\\Users\\achla\\Downloads\\ML\\dvc\\dvc_flights_price_prediction\\model_dir\n",
      "\n",
      "09/18/2025  05:34 PM    <DIR>          .\n",
      "09/18/2025  05:44 PM    <DIR>          ..\n",
      "09/18/2025  05:30 PM                33 .gitignore\n",
      "09/18/2025  05:34 PM       835,865,843 flight-price-prediction.joblib\n",
      "09/18/2025  05:34 PM               120 flight-price-prediction.joblib.dvc\n",
      "               3 File(s)    835,865,996 bytes\n",
      "               2 Dir(s)  89,349,554,176 bytes free\n"
     ]
    }
   ],
   "source": [
    "!dir  model_dir\n",
    "\n"
   ]
  },
  {
   "cell_type": "code",
   "execution_count": 101,
   "id": "8ddb804a-292f-496c-82de-a63f891b8d0e",
   "metadata": {},
   "outputs": [],
   "source": [
    "!git add model_dir/."
   ]
  },
  {
   "cell_type": "code",
   "execution_count": 102,
   "id": "2ef1887a-3313-453e-8ccb-12442f44e06f",
   "metadata": {},
   "outputs": [],
   "source": [
    "!git add rf_regression/."
   ]
  },
  {
   "cell_type": "code",
   "execution_count": 103,
   "id": "af4f97ff-80b8-4912-a531-4f18617305b5",
   "metadata": {},
   "outputs": [],
   "source": [
    "!git add data/."
   ]
  },
  {
   "cell_type": "code",
   "execution_count": 104,
   "id": "44207c11-4c1a-4413-a920-a2514636473b",
   "metadata": {},
   "outputs": [
    {
     "name": "stdout",
     "output_type": "stream",
     "text": [
      "On branch main\n",
      "Your branch is up to date with 'origin/main'.\n",
      "\n",
      "Changes to be committed:\n",
      "  (use \"git restore --staged <file>...\" to unstage)\n",
      "\tnew file:   model_dir/.gitignore\n",
      "\tnew file:   model_dir/flight-price-prediction.joblib.dvc\n",
      "\tnew file:   rf_regression/metrics.json\n",
      "\tnew file:   rf_regression/params.yaml\n",
      "\tnew file:   rf_regression/plots/custom/predicted_vs_actual_price.json\n",
      "\tnew file:   rf_regression/plots/metrics/mae.tsv\n",
      "\tnew file:   rf_regression/plots/metrics/r2_score.tsv\n",
      "\tnew file:   rf_regression/plots/metrics/rmse.tsv\n",
      "\tnew file:   rf_regression/plots/metrics/training_r2_score.tsv\n",
      "\n",
      "Changes not staged for commit:\n",
      "  (use \"git add <file>...\" to update what will be committed)\n",
      "  (use \"git restore <file>...\" to discard changes in working directory)\n",
      "\tmodified:   .dvc/config\n",
      "\n",
      "Untracked files:\n",
      "  (use \"git add <file>...\" to include in what will be committed)\n",
      "\t.ipynb_checkpoints/\n",
      "\tDNC.ipynb\n",
      "\tFlightsPricePrediction.ipynb\n",
      "\tduration_vs_price.csv\n",
      "\tdvc.yaml\n",
      "\tdvc_plots/\n",
      "\tdvclive/\n",
      "\timages/\n",
      "\tknn_regression/\n",
      "\tpredicted_vs_actual_price.csv\n",
      "\tscatter_plots/\n",
      "\n"
     ]
    }
   ],
   "source": [
    "!git status"
   ]
  },
  {
   "cell_type": "code",
   "execution_count": 105,
   "id": "da2a1d7d-a9fd-4f37-8593-524c3cf353cf",
   "metadata": {},
   "outputs": [
    {
     "name": "stdout",
     "output_type": "stream",
     "text": [
      "[main 209c402] Committing model, data, and experiment files for RF model\n",
      " 9 files changed, 360224 insertions(+)\n",
      " create mode 100644 model_dir/.gitignore\n",
      " create mode 100644 model_dir/flight-price-prediction.joblib.dvc\n",
      " create mode 100644 rf_regression/metrics.json\n",
      " create mode 100644 rf_regression/params.yaml\n",
      " create mode 100644 rf_regression/plots/custom/predicted_vs_actual_price.json\n",
      " create mode 100644 rf_regression/plots/metrics/mae.tsv\n",
      " create mode 100644 rf_regression/plots/metrics/r2_score.tsv\n",
      " create mode 100644 rf_regression/plots/metrics/rmse.tsv\n",
      " create mode 100644 rf_regression/plots/metrics/training_r2_score.tsv\n"
     ]
    }
   ],
   "source": [
    "!git commit -m \"Committing model, data, and experiment files for RF model\""
   ]
  },
  {
   "cell_type": "code",
   "execution_count": 106,
   "id": "2e36b9ab-b849-40b4-a908-56e2193519ec",
   "metadata": {},
   "outputs": [
    {
     "name": "stderr",
     "output_type": "stream",
     "text": [
      "To https://github.com/amsha16/dvc_flights_price_prediction.git"
     ]
    },
    {
     "name": "stdout",
     "output_type": "stream",
     "text": [
      "branch 'main' set up to track 'origin/main'."
     ]
    },
    {
     "name": "stderr",
     "output_type": "stream",
     "text": [
      "\n",
      "   347215e..209c402  main -> main"
     ]
    },
    {
     "name": "stdout",
     "output_type": "stream",
     "text": [
      "\n"
     ]
    },
    {
     "name": "stderr",
     "output_type": "stream",
     "text": [
      "\n"
     ]
    }
   ],
   "source": [
    "!git push -u origin main"
   ]
  },
  {
   "cell_type": "code",
   "execution_count": 107,
   "id": "f8b1d4b6-7f4c-4490-88d0-c3f8fd838425",
   "metadata": {},
   "outputs": [],
   "source": [
    "!mkdir loaded_model"
   ]
  },
  {
   "cell_type": "code",
   "execution_count": 108,
   "id": "8a8cbce1-61d8-4d4c-b1d6-aa62b8416eb5",
   "metadata": {},
   "outputs": [],
   "source": [
    "!cd loaded_model"
   ]
  },
  {
   "cell_type": "code",
   "execution_count": 109,
   "id": "172ea62f-9af4-4b97-8ed9-53aa80c91ee4",
   "metadata": {},
   "outputs": [
    {
     "name": "stderr",
     "output_type": "stream",
     "text": [
      "ERROR: unexpected error - [Errno 2] No storage files available: 'model_dir/flight-price-prediction.joblib'\n",
      "\n",
      "Having any troubles? Hit us up at https://dvc.org/support, we are always happy to help!\n"
     ]
    }
   ],
   "source": [
    "!dvc get https://github.com/amsh16/dvc_flights_price_prediction ../model_dir/flight-price-prediction.joblib --rev 472ca73d4e1f2f212008d63158eac1dea586bed4"
   ]
  },
  {
   "cell_type": "code",
   "execution_count": null,
   "id": "8b34fdf2-87a6-41f6-8361-b475090c6145",
   "metadata": {},
   "outputs": [],
   "source": [
    "from joblib import load\n",
    "\n",
    "loaded_model = load('loaded_model/flight-price-prediction.joblib')\n",
    "\n",
    "predictions_loaded = loaded_model.predict(X_test)\n",
    " \n",
    "predictions_loaded"
   ]
  },
  {
   "cell_type": "code",
   "execution_count": null,
   "id": "f0bce19d-b926-4632-8bb4-2f51ebda8132",
   "metadata": {},
   "outputs": [],
   "source": [
    "predictions_original = y_pred\n",
    " \n",
    "predictions_original"
   ]
  },
  {
   "cell_type": "code",
   "execution_count": null,
   "id": "cb625d06-49f3-4fe9-9e07-a11bef850389",
   "metadata": {},
   "outputs": [],
   "source": [
    "assert(np.array_equal(predictions_loaded, predictions_original))"
   ]
  },
  {
   "cell_type": "code",
   "execution_count": 110,
   "id": "a457bcba-8ca9-4d14-a886-f5effe003684",
   "metadata": {},
   "outputs": [
    {
     "name": "stdout",
     "output_type": "stream",
     "text": [
      "On branch main\n",
      "Your branch is up to date with 'origin/main'.\n",
      "\n",
      "Changes not staged for commit:\n",
      "  (use \"git add <file>...\" to update what will be committed)\n",
      "  (use \"git restore <file>...\" to discard changes in working directory)\n",
      "\tmodified:   .dvc/config\n",
      "\n",
      "Untracked files:\n",
      "  (use \"git add <file>...\" to include in what will be committed)\n",
      "\t.ipynb_checkpoints/\n",
      "\tDNC.ipynb\n",
      "\tFlightsPricePrediction.ipynb\n",
      "\tduration_vs_price.csv\n",
      "\tdvc.yaml\n",
      "\tdvc_plots/\n",
      "\tdvclive/\n",
      "\timages/\n",
      "\tknn_regression/\n",
      "\tpredicted_vs_actual_price.csv\n",
      "\tscatter_plots/\n",
      "\n",
      "no changes added to commit (use \"git add\" and/or \"git commit -a\")\n"
     ]
    }
   ],
   "source": [
    "!git status"
   ]
  },
  {
   "cell_type": "code",
   "execution_count": null,
   "id": "06ae2089-2f77-4777-9043-1f26ef272e74",
   "metadata": {},
   "outputs": [],
   "source": []
  }
 ],
 "metadata": {
  "kernelspec": {
   "display_name": "dvc_venv",
   "language": "python",
   "name": "dvc_venv"
  },
  "language_info": {
   "codemirror_mode": {
    "name": "ipython",
    "version": 3
   },
   "file_extension": ".py",
   "mimetype": "text/x-python",
   "name": "python",
   "nbconvert_exporter": "python",
   "pygments_lexer": "ipython3",
   "version": "3.13.7"
  }
 },
 "nbformat": 4,
 "nbformat_minor": 5
}
